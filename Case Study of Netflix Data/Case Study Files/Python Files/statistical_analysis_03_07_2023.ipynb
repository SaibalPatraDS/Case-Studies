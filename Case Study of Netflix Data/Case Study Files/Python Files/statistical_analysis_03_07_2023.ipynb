{
 "cells": [
  {
   "cell_type": "code",
   "execution_count": 1,
   "id": "3456c264-0531-4aa6-9881-338336627542",
   "metadata": {},
   "outputs": [],
   "source": [
    "import pandas as pd\n",
    "import numpy as np \n",
    "\n",
    "import statistics\n",
    "from scipy import stats\n",
    "\n",
    "import matplotlib.pyplot as plt\n",
    "import seaborn as sns"
   ]
  },
  {
   "cell_type": "code",
   "execution_count": 2,
   "id": "2612b177-54f8-4970-bdf6-322023b90afa",
   "metadata": {},
   "outputs": [],
   "source": [
    "pd.set_option(\"display.max_rows\", 1000)\n",
    "pd.set_option(\"display.max_columns\", 25)"
   ]
  },
  {
   "cell_type": "code",
   "execution_count": 3,
   "id": "93bc6ce9-4e7b-4310-927b-335ddf540e4a",
   "metadata": {},
   "outputs": [
    {
     "data": {
      "text/html": [
       "<div>\n",
       "<style scoped>\n",
       "    .dataframe tbody tr th:only-of-type {\n",
       "        vertical-align: middle;\n",
       "    }\n",
       "\n",
       "    .dataframe tbody tr th {\n",
       "        vertical-align: top;\n",
       "    }\n",
       "\n",
       "    .dataframe thead th {\n",
       "        text-align: right;\n",
       "    }\n",
       "</style>\n",
       "<table border=\"1\" class=\"dataframe\">\n",
       "  <thead>\n",
       "    <tr style=\"text-align: right;\">\n",
       "      <th></th>\n",
       "      <th>country_name</th>\n",
       "      <th>country_iso2</th>\n",
       "      <th>week</th>\n",
       "      <th>category</th>\n",
       "      <th>weekly_rank</th>\n",
       "      <th>show_title</th>\n",
       "      <th>season_title</th>\n",
       "      <th>cumulative_weeks_in_top_10</th>\n",
       "    </tr>\n",
       "  </thead>\n",
       "  <tbody>\n",
       "    <tr>\n",
       "      <th>0</th>\n",
       "      <td>Argentina</td>\n",
       "      <td>AR</td>\n",
       "      <td>2023-03-05</td>\n",
       "      <td>Films</td>\n",
       "      <td>1</td>\n",
       "      <td>We Have a Ghost</td>\n",
       "      <td>NaN</td>\n",
       "      <td>2</td>\n",
       "    </tr>\n",
       "    <tr>\n",
       "      <th>1</th>\n",
       "      <td>Argentina</td>\n",
       "      <td>AR</td>\n",
       "      <td>2023-03-05</td>\n",
       "      <td>Films</td>\n",
       "      <td>2</td>\n",
       "      <td>Bad Boys for Life</td>\n",
       "      <td>NaN</td>\n",
       "      <td>2</td>\n",
       "    </tr>\n",
       "    <tr>\n",
       "      <th>2</th>\n",
       "      <td>Argentina</td>\n",
       "      <td>AR</td>\n",
       "      <td>2023-03-05</td>\n",
       "      <td>Films</td>\n",
       "      <td>3</td>\n",
       "      <td>The Condemned</td>\n",
       "      <td>NaN</td>\n",
       "      <td>1</td>\n",
       "    </tr>\n",
       "    <tr>\n",
       "      <th>3</th>\n",
       "      <td>Argentina</td>\n",
       "      <td>AR</td>\n",
       "      <td>2023-03-05</td>\n",
       "      <td>Films</td>\n",
       "      <td>4</td>\n",
       "      <td>Love at First Kiss</td>\n",
       "      <td>NaN</td>\n",
       "      <td>1</td>\n",
       "    </tr>\n",
       "    <tr>\n",
       "      <th>4</th>\n",
       "      <td>Argentina</td>\n",
       "      <td>AR</td>\n",
       "      <td>2023-03-05</td>\n",
       "      <td>Films</td>\n",
       "      <td>5</td>\n",
       "      <td>Tonight You're Sleeping with Me</td>\n",
       "      <td>NaN</td>\n",
       "      <td>1</td>\n",
       "    </tr>\n",
       "  </tbody>\n",
       "</table>\n",
       "</div>"
      ],
      "text/plain": [
       "  country_name country_iso2        week category  weekly_rank  \\\n",
       "0    Argentina           AR  2023-03-05    Films            1   \n",
       "1    Argentina           AR  2023-03-05    Films            2   \n",
       "2    Argentina           AR  2023-03-05    Films            3   \n",
       "3    Argentina           AR  2023-03-05    Films            4   \n",
       "4    Argentina           AR  2023-03-05    Films            5   \n",
       "\n",
       "                        show_title season_title  cumulative_weeks_in_top_10  \n",
       "0                  We Have a Ghost          NaN                           2  \n",
       "1                Bad Boys for Life          NaN                           2  \n",
       "2                    The Condemned          NaN                           1  \n",
       "3               Love at First Kiss          NaN                           1  \n",
       "4  Tonight You're Sleeping with Me          NaN                           1  "
      ]
     },
     "execution_count": 3,
     "metadata": {},
     "output_type": "execute_result"
    }
   ],
   "source": [
    "countries_data = pd.read_csv(\"Data/all-weeks-countries.csv\", encoding = 'cp1252')\n",
    "countries_data.head()"
   ]
  },
  {
   "cell_type": "code",
   "execution_count": 4,
   "id": "53c90a0f-bae0-40fb-95da-4fa0819d30b2",
   "metadata": {},
   "outputs": [
    {
     "data": {
      "text/plain": [
       "Films    82190\n",
       "TV       82190\n",
       "Name: category, dtype: int64"
      ]
     },
     "execution_count": 4,
     "metadata": {},
     "output_type": "execute_result"
    }
   ],
   "source": [
    "# countries_data.country_name.nunique()\n",
    "# countries_data.week.max()\n",
    "countries_data.category.value_counts()"
   ]
  },
  {
   "cell_type": "code",
   "execution_count": 5,
   "id": "42eab91d-4946-41f9-a88d-ead2a10f312f",
   "metadata": {},
   "outputs": [
    {
     "data": {
      "text/html": [
       "<div>\n",
       "<style scoped>\n",
       "    .dataframe tbody tr th:only-of-type {\n",
       "        vertical-align: middle;\n",
       "    }\n",
       "\n",
       "    .dataframe tbody tr th {\n",
       "        vertical-align: top;\n",
       "    }\n",
       "\n",
       "    .dataframe thead th {\n",
       "        text-align: right;\n",
       "    }\n",
       "</style>\n",
       "<table border=\"1\" class=\"dataframe\">\n",
       "  <thead>\n",
       "    <tr style=\"text-align: right;\">\n",
       "      <th></th>\n",
       "      <th>week</th>\n",
       "      <th>category</th>\n",
       "      <th>weekly_rank</th>\n",
       "      <th>show_title</th>\n",
       "      <th>season_title</th>\n",
       "      <th>weekly_hours_viewed</th>\n",
       "      <th>cumulative_weeks_in_top_10</th>\n",
       "    </tr>\n",
       "  </thead>\n",
       "  <tbody>\n",
       "    <tr>\n",
       "      <th>0</th>\n",
       "      <td>2023-03-05</td>\n",
       "      <td>Films (English)</td>\n",
       "      <td>1</td>\n",
       "      <td>We Have a Ghost</td>\n",
       "      <td>NaN</td>\n",
       "      <td>42620000</td>\n",
       "      <td>2</td>\n",
       "    </tr>\n",
       "    <tr>\n",
       "      <th>1</th>\n",
       "      <td>2023-03-05</td>\n",
       "      <td>Films (English)</td>\n",
       "      <td>2</td>\n",
       "      <td>The Strays</td>\n",
       "      <td>NaN</td>\n",
       "      <td>14570000</td>\n",
       "      <td>2</td>\n",
       "    </tr>\n",
       "    <tr>\n",
       "      <th>2</th>\n",
       "      <td>2023-03-05</td>\n",
       "      <td>Films (English)</td>\n",
       "      <td>3</td>\n",
       "      <td>The Condemned</td>\n",
       "      <td>NaN</td>\n",
       "      <td>10230000</td>\n",
       "      <td>1</td>\n",
       "    </tr>\n",
       "    <tr>\n",
       "      <th>3</th>\n",
       "      <td>2023-03-05</td>\n",
       "      <td>Films (English)</td>\n",
       "      <td>4</td>\n",
       "      <td>R.I.P.D.</td>\n",
       "      <td>NaN</td>\n",
       "      <td>8330000</td>\n",
       "      <td>1</td>\n",
       "    </tr>\n",
       "    <tr>\n",
       "      <th>4</th>\n",
       "      <td>2023-03-05</td>\n",
       "      <td>Films (English)</td>\n",
       "      <td>5</td>\n",
       "      <td>Bad Boys for Life</td>\n",
       "      <td>NaN</td>\n",
       "      <td>8330000</td>\n",
       "      <td>2</td>\n",
       "    </tr>\n",
       "  </tbody>\n",
       "</table>\n",
       "</div>"
      ],
      "text/plain": [
       "         week         category  weekly_rank         show_title season_title  \\\n",
       "0  2023-03-05  Films (English)            1    We Have a Ghost          NaN   \n",
       "1  2023-03-05  Films (English)            2         The Strays          NaN   \n",
       "2  2023-03-05  Films (English)            3      The Condemned          NaN   \n",
       "3  2023-03-05  Films (English)            4           R.I.P.D.          NaN   \n",
       "4  2023-03-05  Films (English)            5  Bad Boys for Life          NaN   \n",
       "\n",
       "   weekly_hours_viewed  cumulative_weeks_in_top_10  \n",
       "0             42620000                           2  \n",
       "1             14570000                           2  \n",
       "2             10230000                           1  \n",
       "3              8330000                           1  \n",
       "4              8330000                           2  "
      ]
     },
     "execution_count": 5,
     "metadata": {},
     "output_type": "execute_result"
    }
   ],
   "source": [
    "global_data = pd.read_csv(\"Data/all-weeks-global.csv\", encoding = 'cp1252')\n",
    "global_data.head()"
   ]
  },
  {
   "cell_type": "code",
   "execution_count": 6,
   "id": "acfee2cb-2c28-445f-b0ce-d64d22fd8c2b",
   "metadata": {},
   "outputs": [
    {
     "data": {
      "text/plain": [
       "'2021-07-04'"
      ]
     },
     "execution_count": 6,
     "metadata": {},
     "output_type": "execute_result"
    }
   ],
   "source": [
    "global_data.week.min()"
   ]
  },
  {
   "cell_type": "code",
   "execution_count": 7,
   "id": "5fd4ae13-d328-4fce-b4c5-032a0c7e02d3",
   "metadata": {},
   "outputs": [
    {
     "data": {
      "text/html": [
       "<div>\n",
       "<style scoped>\n",
       "    .dataframe tbody tr th:only-of-type {\n",
       "        vertical-align: middle;\n",
       "    }\n",
       "\n",
       "    .dataframe tbody tr th {\n",
       "        vertical-align: top;\n",
       "    }\n",
       "\n",
       "    .dataframe thead th {\n",
       "        text-align: right;\n",
       "    }\n",
       "</style>\n",
       "<table border=\"1\" class=\"dataframe\">\n",
       "  <thead>\n",
       "    <tr style=\"text-align: right;\">\n",
       "      <th></th>\n",
       "      <th>category</th>\n",
       "      <th>rank</th>\n",
       "      <th>show_title</th>\n",
       "      <th>season_title</th>\n",
       "      <th>hours_viewed_first_28_days</th>\n",
       "    </tr>\n",
       "  </thead>\n",
       "  <tbody>\n",
       "    <tr>\n",
       "      <th>0</th>\n",
       "      <td>Films (English)</td>\n",
       "      <td>1</td>\n",
       "      <td>Red Notice</td>\n",
       "      <td>NaN</td>\n",
       "      <td>364020000</td>\n",
       "    </tr>\n",
       "    <tr>\n",
       "      <th>1</th>\n",
       "      <td>Films (English)</td>\n",
       "      <td>2</td>\n",
       "      <td>Don't Look Up</td>\n",
       "      <td>NaN</td>\n",
       "      <td>359790000</td>\n",
       "    </tr>\n",
       "    <tr>\n",
       "      <th>2</th>\n",
       "      <td>Films (English)</td>\n",
       "      <td>3</td>\n",
       "      <td>Bird Box</td>\n",
       "      <td>NaN</td>\n",
       "      <td>282020000</td>\n",
       "    </tr>\n",
       "    <tr>\n",
       "      <th>3</th>\n",
       "      <td>Films (English)</td>\n",
       "      <td>4</td>\n",
       "      <td>Glass Onion: A Knives Out Mystery</td>\n",
       "      <td>NaN</td>\n",
       "      <td>279740000</td>\n",
       "    </tr>\n",
       "    <tr>\n",
       "      <th>4</th>\n",
       "      <td>Films (English)</td>\n",
       "      <td>5</td>\n",
       "      <td>The Gray Man</td>\n",
       "      <td>NaN</td>\n",
       "      <td>253870000</td>\n",
       "    </tr>\n",
       "  </tbody>\n",
       "</table>\n",
       "</div>"
      ],
      "text/plain": [
       "          category  rank                         show_title season_title  \\\n",
       "0  Films (English)     1                         Red Notice          NaN   \n",
       "1  Films (English)     2                      Don't Look Up          NaN   \n",
       "2  Films (English)     3                           Bird Box          NaN   \n",
       "3  Films (English)     4  Glass Onion: A Knives Out Mystery          NaN   \n",
       "4  Films (English)     5                       The Gray Man          NaN   \n",
       "\n",
       "   hours_viewed_first_28_days  \n",
       "0                   364020000  \n",
       "1                   359790000  \n",
       "2                   282020000  \n",
       "3                   279740000  \n",
       "4                   253870000  "
      ]
     },
     "execution_count": 7,
     "metadata": {},
     "output_type": "execute_result"
    }
   ],
   "source": [
    "popular_data = pd.read_csv(\"Data/most-popular.csv\", encoding = 'cp1252')\n",
    "popular_data.head()"
   ]
  },
  {
   "cell_type": "code",
   "execution_count": 8,
   "id": "7a7d233a-1d6a-4c27-bac4-be1146b6a1ec",
   "metadata": {},
   "outputs": [
    {
     "data": {
      "text/plain": [
       "Films (English)        10\n",
       "Films (Non-English)    10\n",
       "TV (English)           10\n",
       "TV (Non-English)       10\n",
       "Name: category, dtype: int64"
      ]
     },
     "execution_count": 8,
     "metadata": {},
     "output_type": "execute_result"
    }
   ],
   "source": [
    "popular_data.category.value_counts()"
   ]
  },
  {
   "cell_type": "code",
   "execution_count": 9,
   "id": "61a45f56-4456-4a42-820a-839e320c47d9",
   "metadata": {},
   "outputs": [
    {
     "data": {
      "text/html": [
       "<div>\n",
       "<style scoped>\n",
       "    .dataframe tbody tr th:only-of-type {\n",
       "        vertical-align: middle;\n",
       "    }\n",
       "\n",
       "    .dataframe tbody tr th {\n",
       "        vertical-align: top;\n",
       "    }\n",
       "\n",
       "    .dataframe thead th {\n",
       "        text-align: right;\n",
       "    }\n",
       "</style>\n",
       "<table border=\"1\" class=\"dataframe\">\n",
       "  <thead>\n",
       "    <tr style=\"text-align: right;\">\n",
       "      <th></th>\n",
       "      <th>Title</th>\n",
       "      <th>Year</th>\n",
       "      <th>Age</th>\n",
       "      <th>IMDb</th>\n",
       "      <th>Rotten Tomatoes</th>\n",
       "      <th>Netflix</th>\n",
       "      <th>Hulu</th>\n",
       "      <th>Prime Video</th>\n",
       "      <th>Disney+</th>\n",
       "      <th>type</th>\n",
       "    </tr>\n",
       "  </thead>\n",
       "  <tbody>\n",
       "    <tr>\n",
       "      <th>0</th>\n",
       "      <td>Breaking Bad</td>\n",
       "      <td>2008.0</td>\n",
       "      <td>18+</td>\n",
       "      <td>9.5</td>\n",
       "      <td>96%</td>\n",
       "      <td>1</td>\n",
       "      <td>0</td>\n",
       "      <td>0</td>\n",
       "      <td>0</td>\n",
       "      <td>1.0</td>\n",
       "    </tr>\n",
       "    <tr>\n",
       "      <th>1</th>\n",
       "      <td>Stranger Things</td>\n",
       "      <td>2016.0</td>\n",
       "      <td>16+</td>\n",
       "      <td>8.8</td>\n",
       "      <td>93%</td>\n",
       "      <td>1</td>\n",
       "      <td>0</td>\n",
       "      <td>0</td>\n",
       "      <td>0</td>\n",
       "      <td>1.0</td>\n",
       "    </tr>\n",
       "    <tr>\n",
       "      <th>2</th>\n",
       "      <td>Money Heist</td>\n",
       "      <td>2017.0</td>\n",
       "      <td>18+</td>\n",
       "      <td>8.4</td>\n",
       "      <td>91%</td>\n",
       "      <td>1</td>\n",
       "      <td>0</td>\n",
       "      <td>0</td>\n",
       "      <td>0</td>\n",
       "      <td>1.0</td>\n",
       "    </tr>\n",
       "    <tr>\n",
       "      <th>3</th>\n",
       "      <td>Sherlock</td>\n",
       "      <td>2010.0</td>\n",
       "      <td>16+</td>\n",
       "      <td>9.1</td>\n",
       "      <td>78%</td>\n",
       "      <td>1</td>\n",
       "      <td>0</td>\n",
       "      <td>0</td>\n",
       "      <td>0</td>\n",
       "      <td>1.0</td>\n",
       "    </tr>\n",
       "    <tr>\n",
       "      <th>4</th>\n",
       "      <td>Better Call Saul</td>\n",
       "      <td>2015.0</td>\n",
       "      <td>18+</td>\n",
       "      <td>8.7</td>\n",
       "      <td>97%</td>\n",
       "      <td>1</td>\n",
       "      <td>0</td>\n",
       "      <td>0</td>\n",
       "      <td>0</td>\n",
       "      <td>1.0</td>\n",
       "    </tr>\n",
       "  </tbody>\n",
       "</table>\n",
       "</div>"
      ],
      "text/plain": [
       "              Title    Year  Age  IMDb Rotten Tomatoes  Netflix  Hulu  \\\n",
       "0      Breaking Bad  2008.0  18+   9.5             96%        1     0   \n",
       "1   Stranger Things  2016.0  16+   8.8             93%        1     0   \n",
       "2       Money Heist  2017.0  18+   8.4             91%        1     0   \n",
       "3          Sherlock  2010.0  16+   9.1             78%        1     0   \n",
       "4  Better Call Saul  2015.0  18+   8.7             97%        1     0   \n",
       "\n",
       "   Prime Video  Disney+  type  \n",
       "0            0        0   1.0  \n",
       "1            0        0   1.0  \n",
       "2            0        0   1.0  \n",
       "3            0        0   1.0  \n",
       "4            0        0   1.0  "
      ]
     },
     "execution_count": 9,
     "metadata": {},
     "output_type": "execute_result"
    }
   ],
   "source": [
    "shows_data = pd.read_csv(\"Data/netflix_shows.csv\", encoding = 'cp1252')\n",
    "shows_data.head()"
   ]
  },
  {
   "cell_type": "code",
   "execution_count": 10,
   "id": "1cf016de-d461-44a6-a885-eb62b34d605b",
   "metadata": {},
   "outputs": [
    {
     "data": {
      "text/plain": [
       "Title                 3\n",
       "Year                  1\n",
       "Age                2446\n",
       "IMDb               1161\n",
       "Rotten Tomatoes    4599\n",
       "Netflix               0\n",
       "Hulu                  0\n",
       "Prime Video           0\n",
       "Disney+               0\n",
       "type                  1\n",
       "dtype: int64"
      ]
     },
     "execution_count": 10,
     "metadata": {},
     "output_type": "execute_result"
    }
   ],
   "source": [
    "shows_data.isnull().sum()"
   ]
  },
  {
   "cell_type": "code",
   "execution_count": 11,
   "id": "c131656f-cba7-46ee-9edd-8a4cbf503f15",
   "metadata": {},
   "outputs": [],
   "source": [
    "shows_data.columns = shows_data.columns.str.replace(\" \",\"_\") "
   ]
  },
  {
   "cell_type": "code",
   "execution_count": 12,
   "id": "c86629d9-a027-4a51-8598-ab15a6a87ce6",
   "metadata": {},
   "outputs": [
    {
     "data": {
      "text/plain": [
       "(5611, 10)"
      ]
     },
     "execution_count": 12,
     "metadata": {},
     "output_type": "execute_result"
    }
   ],
   "source": [
    "shows_data.shape"
   ]
  },
  {
   "cell_type": "code",
   "execution_count": 13,
   "id": "c1a39e82-c359-49b2-b8dd-42824eac01c2",
   "metadata": {},
   "outputs": [],
   "source": [
    "shows_data = shows_data.dropna(subset=['Year'])"
   ]
  },
  {
   "cell_type": "code",
   "execution_count": 14,
   "id": "c716020d-2590-4c35-8d7a-d4468475d27c",
   "metadata": {},
   "outputs": [],
   "source": [
    "# shows_data.Year.value_counts()"
   ]
  },
  {
   "cell_type": "code",
   "execution_count": 15,
   "id": "03f51889-8caf-4b3b-93c8-b7d4ae3b9ea3",
   "metadata": {},
   "outputs": [],
   "source": [
    "# Assuming shows_data is your DataFrame with the 'Year' column\n",
    "shows_data['Year'] = shows_data['Year'].replace([np.inf, -np.inf], np.nan)  # Replace inf values with NaN\n",
    "shows_data['Year'] = shows_data['Year'].fillna(0)  # Replace NaN values with 0\n",
    "shows_data['Year'] = shows_data['Year'].astype('int')  # Convert to integer"
   ]
  },
  {
   "cell_type": "code",
   "execution_count": 16,
   "id": "b18c19d8-c079-459f-a870-bb66cc576494",
   "metadata": {},
   "outputs": [
    {
     "data": {
      "text/html": [
       "<div>\n",
       "<style scoped>\n",
       "    .dataframe tbody tr th:only-of-type {\n",
       "        vertical-align: middle;\n",
       "    }\n",
       "\n",
       "    .dataframe tbody tr th {\n",
       "        vertical-align: top;\n",
       "    }\n",
       "\n",
       "    .dataframe thead th {\n",
       "        text-align: right;\n",
       "    }\n",
       "</style>\n",
       "<table border=\"1\" class=\"dataframe\">\n",
       "  <thead>\n",
       "    <tr style=\"text-align: right;\">\n",
       "      <th></th>\n",
       "      <th>Title</th>\n",
       "      <th>Year</th>\n",
       "      <th>Age</th>\n",
       "      <th>IMDb</th>\n",
       "      <th>Rotten_Tomatoes</th>\n",
       "      <th>Netflix</th>\n",
       "      <th>Hulu</th>\n",
       "      <th>Prime_Video</th>\n",
       "      <th>Disney+</th>\n",
       "      <th>type</th>\n",
       "    </tr>\n",
       "  </thead>\n",
       "  <tbody>\n",
       "  </tbody>\n",
       "</table>\n",
       "</div>"
      ],
      "text/plain": [
       "Empty DataFrame\n",
       "Columns: [Title, Year, Age, IMDb, Rotten_Tomatoes, Netflix, Hulu, Prime_Video, Disney+, type]\n",
       "Index: []"
      ]
     },
     "execution_count": 16,
     "metadata": {},
     "output_type": "execute_result"
    }
   ],
   "source": [
    "shows_data.query('Year == 0')"
   ]
  },
  {
   "cell_type": "code",
   "execution_count": 17,
   "id": "180417e8-5489-4216-a81f-8c0b37b0a5db",
   "metadata": {},
   "outputs": [
    {
     "data": {
      "text/html": [
       "<div>\n",
       "<style scoped>\n",
       "    .dataframe tbody tr th:only-of-type {\n",
       "        vertical-align: middle;\n",
       "    }\n",
       "\n",
       "    .dataframe tbody tr th {\n",
       "        vertical-align: top;\n",
       "    }\n",
       "\n",
       "    .dataframe thead th {\n",
       "        text-align: right;\n",
       "    }\n",
       "</style>\n",
       "<table border=\"1\" class=\"dataframe\">\n",
       "  <thead>\n",
       "    <tr style=\"text-align: right;\">\n",
       "      <th></th>\n",
       "      <th>Title</th>\n",
       "      <th>Year</th>\n",
       "      <th>Age</th>\n",
       "      <th>IMDb</th>\n",
       "      <th>Rotten_Tomatoes</th>\n",
       "      <th>Netflix</th>\n",
       "      <th>Hulu</th>\n",
       "      <th>Prime_Video</th>\n",
       "      <th>Disney+</th>\n",
       "      <th>type</th>\n",
       "    </tr>\n",
       "  </thead>\n",
       "  <tbody>\n",
       "  </tbody>\n",
       "</table>\n",
       "</div>"
      ],
      "text/plain": [
       "Empty DataFrame\n",
       "Columns: [Title, Year, Age, IMDb, Rotten_Tomatoes, Netflix, Hulu, Prime_Video, Disney+, type]\n",
       "Index: []"
      ]
     },
     "execution_count": 17,
     "metadata": {},
     "output_type": "execute_result"
    }
   ],
   "source": [
    "shows_data.query('Year == 0')"
   ]
  },
  {
   "cell_type": "code",
   "execution_count": 18,
   "id": "f4aa69a3-9d91-4351-8adc-7839c29c2ead",
   "metadata": {},
   "outputs": [
    {
     "data": {
      "text/html": [
       "<div>\n",
       "<style scoped>\n",
       "    .dataframe tbody tr th:only-of-type {\n",
       "        vertical-align: middle;\n",
       "    }\n",
       "\n",
       "    .dataframe tbody tr th {\n",
       "        vertical-align: top;\n",
       "    }\n",
       "\n",
       "    .dataframe thead th {\n",
       "        text-align: right;\n",
       "    }\n",
       "</style>\n",
       "<table border=\"1\" class=\"dataframe\">\n",
       "  <thead>\n",
       "    <tr style=\"text-align: right;\">\n",
       "      <th></th>\n",
       "      <th>Title</th>\n",
       "      <th>Year</th>\n",
       "      <th>Age</th>\n",
       "      <th>IMDb</th>\n",
       "      <th>Rotten_Tomatoes</th>\n",
       "      <th>Netflix</th>\n",
       "      <th>Hulu</th>\n",
       "      <th>Prime_Video</th>\n",
       "      <th>Disney+</th>\n",
       "      <th>type</th>\n",
       "    </tr>\n",
       "  </thead>\n",
       "  <tbody>\n",
       "    <tr>\n",
       "      <th>3552</th>\n",
       "      <td>Food Fetish</td>\n",
       "      <td>2011</td>\n",
       "      <td>NaN</td>\n",
       "      <td>NaN</td>\n",
       "      <td>NaN</td>\n",
       "      <td>0</td>\n",
       "      <td>1</td>\n",
       "      <td>0</td>\n",
       "      <td>0</td>\n",
       "      <td>1.0</td>\n",
       "    </tr>\n",
       "    <tr>\n",
       "      <th>3546</th>\n",
       "      <td>WIRED's Autocomplete Interviews</td>\n",
       "      <td>2016</td>\n",
       "      <td>NaN</td>\n",
       "      <td>NaN</td>\n",
       "      <td>NaN</td>\n",
       "      <td>0</td>\n",
       "      <td>1</td>\n",
       "      <td>1</td>\n",
       "      <td>0</td>\n",
       "      <td>1.0</td>\n",
       "    </tr>\n",
       "  </tbody>\n",
       "</table>\n",
       "</div>"
      ],
      "text/plain": [
       "                                Title  Year  Age  IMDb Rotten_Tomatoes  \\\n",
       "3552                      Food Fetish  2011  NaN   NaN             NaN   \n",
       "3546  WIRED's Autocomplete Interviews  2016  NaN   NaN             NaN   \n",
       "\n",
       "      Netflix  Hulu  Prime_Video  Disney+  type  \n",
       "3552        0     1            0        0   1.0  \n",
       "3546        0     1            1        0   1.0  "
      ]
     },
     "execution_count": 18,
     "metadata": {},
     "output_type": "execute_result"
    }
   ],
   "source": [
    "shows_data.sample(2)"
   ]
  },
  {
   "attachments": {},
   "cell_type": "markdown",
   "id": "afea41fa-bd9b-48e4-baee-d5b7fc9a1fba",
   "metadata": {},
   "source": [
    "## Statistical Analysis"
   ]
  },
  {
   "attachments": {},
   "cell_type": "markdown",
   "id": "3cf4d6ac-3a10-4c94-a6e8-f3b28ae6a734",
   "metadata": {},
   "source": [
    "### 1. Is there a significant difference in IMDb ratings between shows available on Netflix, Hulu, Prime Video, and Disney+?"
   ]
  },
  {
   "cell_type": "code",
   "execution_count": 19,
   "id": "0f95c43a-3da1-4e83-bb24-3d03ce37296c",
   "metadata": {},
   "outputs": [
    {
     "data": {
      "text/plain": [
       "0    3679\n",
       "1    1931\n",
       "Name: Netflix, dtype: int64"
      ]
     },
     "execution_count": 19,
     "metadata": {},
     "output_type": "execute_result"
    }
   ],
   "source": [
    "shows_data.Netflix.value_counts()"
   ]
  },
  {
   "cell_type": "code",
   "execution_count": 20,
   "id": "a79230ca-0842-4ea7-9ca5-cde095f3d320",
   "metadata": {},
   "outputs": [
    {
     "data": {
      "text/plain": [
       "0    3856\n",
       "1    1754\n",
       "Name: Hulu, dtype: int64"
      ]
     },
     "execution_count": 20,
     "metadata": {},
     "output_type": "execute_result"
    }
   ],
   "source": [
    "shows_data.Hulu.value_counts()"
   ]
  },
  {
   "cell_type": "code",
   "execution_count": 21,
   "id": "fff7e5f7-1b6e-4b2c-bd8f-44fcd22b8fd7",
   "metadata": {},
   "outputs": [
    {
     "data": {
      "text/plain": [
       "0    3467\n",
       "1    2143\n",
       "Name: Prime_Video, dtype: int64"
      ]
     },
     "execution_count": 21,
     "metadata": {},
     "output_type": "execute_result"
    }
   ],
   "source": [
    "shows_data['Prime_Video'].value_counts()"
   ]
  },
  {
   "cell_type": "code",
   "execution_count": 22,
   "id": "71366e3c-78a2-48f0-b9b3-a5b401da2f70",
   "metadata": {},
   "outputs": [
    {
     "data": {
      "text/plain": [
       "0    5430\n",
       "1     180\n",
       "Name: Disney+, dtype: int64"
      ]
     },
     "execution_count": 22,
     "metadata": {},
     "output_type": "execute_result"
    }
   ],
   "source": [
    "shows_data['Disney+'].value_counts()"
   ]
  },
  {
   "cell_type": "raw",
   "id": "bac2ccbd-7d26-45c3-8469-bf2d5f8fcb08",
   "metadata": {},
   "source": [
    "NULL Hypothesis(H0) means there is no significance difference in the mean of IMDB ratings among the streaming platforms, and \n",
    "ALTERNATIVE Hypothesis(HA) means there is significance difference."
   ]
  },
  {
   "cell_type": "raw",
   "id": "3f09b99a-a757-4d39-8156-ab3f5b07f892",
   "metadata": {},
   "source": [
    "Null hypothesis (H0): The mean IMDb ratings are equal among shows available on Netflix, Hulu, Prime Video, and Disney+.\n",
    "\n",
    "Alternative hypothesis (HA): The mean IMDb ratings are not equal among shows available on Netflix, Hulu, Prime Video, and Disney+."
   ]
  },
  {
   "cell_type": "code",
   "execution_count": 23,
   "id": "7c61eb1a-9f1b-4ef3-b81a-920c7febf1d5",
   "metadata": {},
   "outputs": [],
   "source": [
    "## assume significance level = 0.05\n",
    "\n",
    "alpha = 0.05\n",
    "\n",
    "## extract the data, make sure no null value is selected and sampling it for better random results\n",
    "\n",
    "netflix = shows_data[shows_data.Netflix == 1]['IMDb'].dropna()\n",
    "hulu = shows_data[shows_data.Hulu == 1]['IMDb'].dropna()\n",
    "prime_video = shows_data[shows_data.Prime_Video == 1]['IMDb'].dropna()\n",
    "disney = shows_data[shows_data['Disney+'] == 1]['IMDb'].dropna()"
   ]
  },
  {
   "cell_type": "code",
   "execution_count": 24,
   "id": "76953601-8b52-4f27-8ce1-968ef05d93ba",
   "metadata": {},
   "outputs": [
    {
     "name": "stdout",
     "output_type": "stream",
     "text": [
      "P-value for the ANOVA test is 0.0016406599840925664 and F-Statistics value is 5.079692433450253\n",
      "As P-value,0.0016406599840925664 is smaller than significance level, 0.05, so we will be Rejecting NULL Hypothesis conclude that there is a significant difference in IMDb ratings among the streaming platforms.\n"
     ]
    }
   ],
   "source": [
    "## applying anova test\n",
    "\n",
    "f_statistics, p_value = stats.f_oneway(netflix, hulu, prime_video, disney)\n",
    "\n",
    "## results\n",
    "\n",
    "print(f\"P-value for the ANOVA test is {p_value} and F-Statistics value is {f_statistics}\")\n",
    "\n",
    "\n",
    "## conclusion\n",
    "if p_value > alpha:\n",
    "    print(f\"As P-value, {p_value} is greater than significance level, {alpha}, so we fail in Rejecting NULL Hypothesis, conclude that there is no significant difference.\")\n",
    "else:\n",
    "    print(f\"As P-value,{p_value} is smaller than significance level, {alpha}, so we will be Rejecting NULL Hypothesis conclude that there is a significant difference in IMDb ratings among the streaming platforms.\")\n"
   ]
  },
  {
   "cell_type": "raw",
   "id": "a477578e-b530-4042-8c9e-7344c739ecff",
   "metadata": {},
   "source": [
    "If the p-value is less than alpha, we reject the null hypothesis and conclude that there is a significant difference in IMDb ratings among the streaming platforms. \n",
    "Otherwise, if the p-value is greater than or equal to alpha, we fail to reject the null hypothesis and conclude that there is no significant difference."
   ]
  },
  {
   "cell_type": "code",
   "execution_count": 25,
   "id": "7d68f6d1-1ed1-4bb9-9a89-7af3ee2b14ea",
   "metadata": {},
   "outputs": [
    {
     "data": {
      "text/plain": [
       "(7.1632799558255105, 7.0611074489123276, 7.1798010711553175, 6.923668639053254)"
      ]
     },
     "execution_count": 25,
     "metadata": {},
     "output_type": "execute_result"
    }
   ],
   "source": [
    "## manually\n",
    "\n",
    "netflix.mean(), hulu.mean(), prime_video.mean(), disney.mean()"
   ]
  },
  {
   "attachments": {},
   "cell_type": "markdown",
   "id": "d874d232-dd07-46ff-a128-64f026a72252",
   "metadata": {},
   "source": [
    "### 2. Does the age rating (e.g., 16+, 18+) of TV shows have an impact on their IMDb ratings?\n"
   ]
  },
  {
   "cell_type": "raw",
   "id": "7bee4790-6d65-476d-b843-f1910039c3f6",
   "metadata": {},
   "source": [
    "NULL Hypothesis : There is no impact of age_rating of TV shows in IMDb ratings.\n",
    "Alternative Hypothesis : There is an impact of age_rating of TV shows in IMDb ratings."
   ]
  },
  {
   "cell_type": "code",
   "execution_count": 26,
   "id": "1a626843-e268-4725-b3a0-eeccd9efd591",
   "metadata": {},
   "outputs": [
    {
     "data": {
      "text/plain": [
       "Index(['Title', 'Year', 'Age', 'IMDb', 'Rotten_Tomatoes', 'Netflix', 'Hulu',\n",
       "       'Prime_Video', 'Disney+', 'type'],\n",
       "      dtype='object')"
      ]
     },
     "execution_count": 26,
     "metadata": {},
     "output_type": "execute_result"
    }
   ],
   "source": [
    "shows_data.columns"
   ]
  },
  {
   "cell_type": "code",
   "execution_count": 27,
   "id": "bffa99a3-8d50-4c3d-9a2c-d97de7d54865",
   "metadata": {},
   "outputs": [
    {
     "data": {
      "text/plain": [
       "16+    1018\n",
       "7+      848\n",
       "18+     750\n",
       "all     545\n",
       "13+       4\n",
       "Name: Age, dtype: int64"
      ]
     },
     "execution_count": 27,
     "metadata": {},
     "output_type": "execute_result"
    }
   ],
   "source": [
    "shows_data.Age.value_counts()"
   ]
  },
  {
   "cell_type": "code",
   "execution_count": 28,
   "id": "fc931f4b-978a-497e-b04f-5f190e43f12e",
   "metadata": {},
   "outputs": [],
   "source": [
    "# shows_data.query(\"Age == ['3.1', '7.2', '7.8']\")  #data cleaning"
   ]
  },
  {
   "cell_type": "code",
   "execution_count": 29,
   "id": "d1cafa0c-e7b2-4ac7-94d0-8aee34339aa8",
   "metadata": {},
   "outputs": [],
   "source": [
    "## filtering population and taking only 50% of population\n",
    "\n",
    "age_7 = shows_data[shows_data['Age'] == '7+']['IMDb'].dropna()\n",
    "age_13 = shows_data[shows_data['Age'] == '13+']['IMDb'].dropna()\n",
    "age_16 = shows_data[shows_data['Age'] == '16+']['IMDb'].dropna()\n",
    "age_18 = shows_data[shows_data['Age'] == '18+']['IMDb'].dropna()\n",
    "age_all = shows_data[shows_data['Age'] == 'all']['IMDb'].dropna()"
   ]
  },
  {
   "cell_type": "code",
   "execution_count": 30,
   "id": "3044ccfa-53a8-4bd7-ab70-7cd4f6dabfe4",
   "metadata": {},
   "outputs": [
    {
     "data": {
      "text/plain": [
       "((838,), (4,), (1013,), (749,), (532,))"
      ]
     },
     "execution_count": 30,
     "metadata": {},
     "output_type": "execute_result"
    }
   ],
   "source": [
    "age_7.shape, age_13.shape, age_16.shape, age_18.shape, age_all.shape"
   ]
  },
  {
   "cell_type": "code",
   "execution_count": 31,
   "id": "f165ae3d-c036-49d1-a0a5-97323442e2bf",
   "metadata": {},
   "outputs": [
    {
     "data": {
      "text/plain": [
       "(7.062171837708831,\n",
       " 6.0,\n",
       " 7.2755182625863775,\n",
       " 7.398130841121495,\n",
       " 6.874624060150376)"
      ]
     },
     "execution_count": 31,
     "metadata": {},
     "output_type": "execute_result"
    }
   ],
   "source": [
    "age_7.mean(), age_13.mean(), age_16.mean(), age_18.mean(), age_all.mean()"
   ]
  },
  {
   "cell_type": "code",
   "execution_count": 32,
   "id": "b52db10d-1828-49c0-a334-88ed178fbe2b",
   "metadata": {},
   "outputs": [
    {
     "data": {
      "text/plain": [
       "1116    6.6\n",
       "1123    6.4\n",
       "1514    5.7\n",
       "4024    5.3\n",
       "Name: IMDb, dtype: float64"
      ]
     },
     "execution_count": 32,
     "metadata": {},
     "output_type": "execute_result"
    }
   ],
   "source": [
    "age_13"
   ]
  },
  {
   "cell_type": "code",
   "execution_count": 33,
   "id": "c2d0a81c-ebb0-4211-943f-723e53c2eefc",
   "metadata": {},
   "outputs": [],
   "source": [
    "datapoints = [age_7, age_13, age_16, age_18, age_all]"
   ]
  },
  {
   "cell_type": "code",
   "execution_count": 34,
   "id": "f058b336-b291-4e3e-97b0-d34f8fd53bb7",
   "metadata": {},
   "outputs": [],
   "source": [
    "## plotting distplot to visulaize the dats\n",
    "\n",
    "def displot_func(data):\n",
    "    plt.figure(figsize = (8,5))\n",
    "    sns.displot(data)\n",
    "    plt.axvline(x = data.mean(), color = 'red', linestyle = 'dotted', linewidth = 2)\n",
    "    # plt.title(\"Distplot of the\", data)\n",
    "    plt.show()"
   ]
  },
  {
   "cell_type": "raw",
   "id": "0ec36326-1b1a-402a-9199-8e49bfe6bb41",
   "metadata": {},
   "source": [
    "for example in datapoints:\n",
    "    displot_func(data = example)"
   ]
  },
  {
   "cell_type": "raw",
   "id": "c653e570-d20c-45a6-ae22-4dc054a93d1e",
   "metadata": {},
   "source": [
    "Excluding age_13, dataset due to less sample avaliable."
   ]
  },
  {
   "attachments": {},
   "cell_type": "markdown",
   "id": "e48a239c-40b6-4728-b043-c4f07ef098b1",
   "metadata": {},
   "source": [
    "**we choose a t-test when comparing the means of two groups, while ANOVA is used when comparing the means of more than two groups.**"
   ]
  },
  {
   "cell_type": "code",
   "execution_count": 35,
   "id": "ef5d0e95-e767-4d86-855a-ca569df75ca9",
   "metadata": {},
   "outputs": [
    {
     "name": "stdout",
     "output_type": "stream",
     "text": [
      "The p-value for the test is 4.056435723903755e-19 and f_statistics value is 30.00355682223527\n",
      "\n",
      "Conclusion : \n",
      "\n",
      "We REJECT the NULL Hypothesis and conclude that there is a signifance effects of age ratings on IMDb ratings\n"
     ]
    }
   ],
   "source": [
    "## using ANOVA test due to different categorical values in a column\n",
    "\n",
    "## using 50% samples from each category\n",
    "\n",
    "## significance level = 0.50\n",
    "alpha = 0.50\n",
    "\n",
    "f_statistics, p_value = stats.f_oneway(age_7, age_16, age_18, age_all)\n",
    "\n",
    "print(f\"The p-value for the test is {p_value} and f_statistics value is {f_statistics}\")\n",
    "\n",
    "print(\"\\nConclusion : \\n\")\n",
    "\n",
    "if p_value > alpha:\n",
    "    print(f\"P-value for the following test is {p_value} and that's greater than significance value, so we cannot REJECT the NULL Hypothesis, means there is no age effects in IMDb ratings\")\n",
    "else:\n",
    "    print(\"We REJECT the NULL Hypothesis and conclude that there is a signifance effects of age ratings on IMDb ratings\")"
   ]
  },
  {
   "cell_type": "raw",
   "id": "a637da59-f76e-462b-affa-f7ff18b90f3c",
   "metadata": {},
   "source": []
  },
  {
   "attachments": {},
   "cell_type": "markdown",
   "id": "e35fee8a-f1f5-49fc-be51-c9cb808c10a0",
   "metadata": {},
   "source": [
    "### 3. Are there significant differences in IMDb ratings among TV shows in different categories (e.g., Films, Series)?\n"
   ]
  },
  {
   "cell_type": "code",
   "execution_count": 36,
   "id": "0d24e05c-b592-4750-9adc-a2ea252504eb",
   "metadata": {},
   "outputs": [
    {
     "data": {
      "text/plain": [
       "Index(['Title', 'Year', 'Age', 'IMDb', 'Rotten_Tomatoes', 'Netflix', 'Hulu',\n",
       "       'Prime_Video', 'Disney+', 'type'],\n",
       "      dtype='object')"
      ]
     },
     "execution_count": 36,
     "metadata": {},
     "output_type": "execute_result"
    }
   ],
   "source": [
    "shows_data.columns"
   ]
  },
  {
   "cell_type": "code",
   "execution_count": 37,
   "id": "b73e6f95-a380-49db-a09a-d0a16755ab1f",
   "metadata": {},
   "outputs": [
    {
     "data": {
      "text/plain": [
       "1.0    5610\n",
       "Name: type, dtype: int64"
      ]
     },
     "execution_count": 37,
     "metadata": {},
     "output_type": "execute_result"
    }
   ],
   "source": [
    "shows_data.type.value_counts()"
   ]
  },
  {
   "cell_type": "code",
   "execution_count": 38,
   "id": "393f1575-b4de-410a-b5f2-edb78ac11f94",
   "metadata": {},
   "outputs": [
    {
     "data": {
      "text/plain": [
       "Films (English)        10\n",
       "Films (Non-English)    10\n",
       "TV (English)           10\n",
       "TV (Non-English)       10\n",
       "Name: category, dtype: int64"
      ]
     },
     "execution_count": 38,
     "metadata": {},
     "output_type": "execute_result"
    }
   ],
   "source": [
    "popular_data.category.value_counts()"
   ]
  },
  {
   "cell_type": "code",
   "execution_count": 39,
   "id": "4dbf1809-2a38-47a6-bdf4-ac99cc09f0ea",
   "metadata": {},
   "outputs": [
    {
     "data": {
      "text/plain": [
       "Films    82190\n",
       "TV       82190\n",
       "Name: category, dtype: int64"
      ]
     },
     "execution_count": 39,
     "metadata": {},
     "output_type": "execute_result"
    }
   ],
   "source": [
    "countries_data.category.value_counts()"
   ]
  },
  {
   "cell_type": "code",
   "execution_count": 40,
   "id": "1e6b4f28-c318-446f-861f-e44d2b0494cf",
   "metadata": {},
   "outputs": [
    {
     "data": {
      "text/plain": [
       "(5610, 10)"
      ]
     },
     "execution_count": 40,
     "metadata": {},
     "output_type": "execute_result"
    }
   ],
   "source": [
    "shows_data.shape"
   ]
  },
  {
   "cell_type": "code",
   "execution_count": 41,
   "id": "646d5f26-542e-47d2-b86e-a7a327251f4a",
   "metadata": {},
   "outputs": [
    {
     "data": {
      "text/plain": [
       "(Index(['week', 'category', 'weekly_rank', 'show_title', 'season_title',\n",
       "        'weekly_hours_viewed', 'cumulative_weeks_in_top_10'],\n",
       "       dtype='object'),\n",
       " (3520, 7))"
      ]
     },
     "execution_count": 41,
     "metadata": {},
     "output_type": "execute_result"
    }
   ],
   "source": [
    "global_data.columns, global_data.shape"
   ]
  },
  {
   "cell_type": "code",
   "execution_count": 42,
   "id": "fe5b5247-40c6-4ab7-900d-2d9791705262",
   "metadata": {},
   "outputs": [
    {
     "data": {
      "text/plain": [
       "Films (English)        880\n",
       "Films (Non-English)    880\n",
       "TV (English)           880\n",
       "TV (Non-English)       880\n",
       "Name: category, dtype: int64"
      ]
     },
     "execution_count": 42,
     "metadata": {},
     "output_type": "execute_result"
    }
   ],
   "source": [
    "global_data.category.value_counts()"
   ]
  },
  {
   "attachments": {},
   "cell_type": "markdown",
   "id": "e5155cc4-1f7a-462b-bbaa-4416989fbf8f",
   "metadata": {},
   "source": [
    "#### Merging `Global Data` with 'Shows Data` on title column and it's an inner join"
   ]
  },
  {
   "cell_type": "code",
   "execution_count": 43,
   "id": "e2d79499-44fa-4611-9764-bc2873f88a66",
   "metadata": {},
   "outputs": [],
   "source": [
    "glob_show_data = pd.merge(global_data, shows_data, left_on = 'show_title' , right_on = 'Title', how = 'inner')"
   ]
  },
  {
   "cell_type": "code",
   "execution_count": 44,
   "id": "fa6cd131-5cef-43c0-b163-bd51ab4a7b08",
   "metadata": {},
   "outputs": [
    {
     "data": {
      "text/plain": [
       "97"
      ]
     },
     "execution_count": 44,
     "metadata": {},
     "output_type": "execute_result"
    }
   ],
   "source": [
    "glob_show_data.Title.nunique()"
   ]
  },
  {
   "cell_type": "code",
   "execution_count": 45,
   "id": "516803c7-a0e8-480f-85f4-9bfaceeaf27e",
   "metadata": {},
   "outputs": [
    {
     "data": {
      "text/plain": [
       "(588, 17)"
      ]
     },
     "execution_count": 45,
     "metadata": {},
     "output_type": "execute_result"
    }
   ],
   "source": [
    "glob_show_data.shape"
   ]
  },
  {
   "cell_type": "code",
   "execution_count": 46,
   "id": "fad429cb-b4d0-4009-9961-9ac8f11d65c0",
   "metadata": {},
   "outputs": [
    {
     "data": {
      "text/html": [
       "<div>\n",
       "<style scoped>\n",
       "    .dataframe tbody tr th:only-of-type {\n",
       "        vertical-align: middle;\n",
       "    }\n",
       "\n",
       "    .dataframe tbody tr th {\n",
       "        vertical-align: top;\n",
       "    }\n",
       "\n",
       "    .dataframe thead th {\n",
       "        text-align: right;\n",
       "    }\n",
       "</style>\n",
       "<table border=\"1\" class=\"dataframe\">\n",
       "  <thead>\n",
       "    <tr style=\"text-align: right;\">\n",
       "      <th></th>\n",
       "      <th>week</th>\n",
       "      <th>category</th>\n",
       "      <th>weekly_rank</th>\n",
       "      <th>show_title</th>\n",
       "      <th>season_title</th>\n",
       "      <th>weekly_hours_viewed</th>\n",
       "      <th>cumulative_weeks_in_top_10</th>\n",
       "      <th>Title</th>\n",
       "      <th>Year</th>\n",
       "      <th>Age</th>\n",
       "      <th>IMDb</th>\n",
       "      <th>Rotten_Tomatoes</th>\n",
       "      <th>Netflix</th>\n",
       "      <th>Hulu</th>\n",
       "      <th>Prime_Video</th>\n",
       "      <th>Disney+</th>\n",
       "      <th>type</th>\n",
       "    </tr>\n",
       "  </thead>\n",
       "  <tbody>\n",
       "    <tr>\n",
       "      <th>0</th>\n",
       "      <td>2023-03-05</td>\n",
       "      <td>TV (English)</td>\n",
       "      <td>1</td>\n",
       "      <td>Outer Banks</td>\n",
       "      <td>Outer Banks: Season 3</td>\n",
       "      <td>99000000</td>\n",
       "      <td>2</td>\n",
       "      <td>Outer Banks</td>\n",
       "      <td>2020</td>\n",
       "      <td>18+</td>\n",
       "      <td>7.6</td>\n",
       "      <td>72%</td>\n",
       "      <td>1</td>\n",
       "      <td>0</td>\n",
       "      <td>0</td>\n",
       "      <td>0</td>\n",
       "      <td>1.0</td>\n",
       "    </tr>\n",
       "    <tr>\n",
       "      <th>1</th>\n",
       "      <td>2023-03-05</td>\n",
       "      <td>TV (English)</td>\n",
       "      <td>4</td>\n",
       "      <td>Outer Banks</td>\n",
       "      <td>Outer Banks: Season 1</td>\n",
       "      <td>34050000</td>\n",
       "      <td>7</td>\n",
       "      <td>Outer Banks</td>\n",
       "      <td>2020</td>\n",
       "      <td>18+</td>\n",
       "      <td>7.6</td>\n",
       "      <td>72%</td>\n",
       "      <td>1</td>\n",
       "      <td>0</td>\n",
       "      <td>0</td>\n",
       "      <td>0</td>\n",
       "      <td>1.0</td>\n",
       "    </tr>\n",
       "    <tr>\n",
       "      <th>2</th>\n",
       "      <td>2023-03-05</td>\n",
       "      <td>TV (English)</td>\n",
       "      <td>6</td>\n",
       "      <td>Outer Banks</td>\n",
       "      <td>Outer Banks: Season 2</td>\n",
       "      <td>27750000</td>\n",
       "      <td>8</td>\n",
       "      <td>Outer Banks</td>\n",
       "      <td>2020</td>\n",
       "      <td>18+</td>\n",
       "      <td>7.6</td>\n",
       "      <td>72%</td>\n",
       "      <td>1</td>\n",
       "      <td>0</td>\n",
       "      <td>0</td>\n",
       "      <td>0</td>\n",
       "      <td>1.0</td>\n",
       "    </tr>\n",
       "    <tr>\n",
       "      <th>3</th>\n",
       "      <td>2023-02-26</td>\n",
       "      <td>TV (English)</td>\n",
       "      <td>1</td>\n",
       "      <td>Outer Banks</td>\n",
       "      <td>Outer Banks: Season 3</td>\n",
       "      <td>154970000</td>\n",
       "      <td>1</td>\n",
       "      <td>Outer Banks</td>\n",
       "      <td>2020</td>\n",
       "      <td>18+</td>\n",
       "      <td>7.6</td>\n",
       "      <td>72%</td>\n",
       "      <td>1</td>\n",
       "      <td>0</td>\n",
       "      <td>0</td>\n",
       "      <td>0</td>\n",
       "      <td>1.0</td>\n",
       "    </tr>\n",
       "    <tr>\n",
       "      <th>4</th>\n",
       "      <td>2023-02-26</td>\n",
       "      <td>TV (English)</td>\n",
       "      <td>4</td>\n",
       "      <td>Outer Banks</td>\n",
       "      <td>Outer Banks: Season 1</td>\n",
       "      <td>35100000</td>\n",
       "      <td>6</td>\n",
       "      <td>Outer Banks</td>\n",
       "      <td>2020</td>\n",
       "      <td>18+</td>\n",
       "      <td>7.6</td>\n",
       "      <td>72%</td>\n",
       "      <td>1</td>\n",
       "      <td>0</td>\n",
       "      <td>0</td>\n",
       "      <td>0</td>\n",
       "      <td>1.0</td>\n",
       "    </tr>\n",
       "  </tbody>\n",
       "</table>\n",
       "</div>"
      ],
      "text/plain": [
       "         week      category  weekly_rank   show_title           season_title  \\\n",
       "0  2023-03-05  TV (English)            1  Outer Banks  Outer Banks: Season 3   \n",
       "1  2023-03-05  TV (English)            4  Outer Banks  Outer Banks: Season 1   \n",
       "2  2023-03-05  TV (English)            6  Outer Banks  Outer Banks: Season 2   \n",
       "3  2023-02-26  TV (English)            1  Outer Banks  Outer Banks: Season 3   \n",
       "4  2023-02-26  TV (English)            4  Outer Banks  Outer Banks: Season 1   \n",
       "\n",
       "   weekly_hours_viewed  cumulative_weeks_in_top_10        Title  Year  Age  \\\n",
       "0             99000000                           2  Outer Banks  2020  18+   \n",
       "1             34050000                           7  Outer Banks  2020  18+   \n",
       "2             27750000                           8  Outer Banks  2020  18+   \n",
       "3            154970000                           1  Outer Banks  2020  18+   \n",
       "4             35100000                           6  Outer Banks  2020  18+   \n",
       "\n",
       "   IMDb Rotten_Tomatoes  Netflix  Hulu  Prime_Video  Disney+  type  \n",
       "0   7.6             72%        1     0            0        0   1.0  \n",
       "1   7.6             72%        1     0            0        0   1.0  \n",
       "2   7.6             72%        1     0            0        0   1.0  \n",
       "3   7.6             72%        1     0            0        0   1.0  \n",
       "4   7.6             72%        1     0            0        0   1.0  "
      ]
     },
     "execution_count": 46,
     "metadata": {},
     "output_type": "execute_result"
    }
   ],
   "source": [
    "glob_show_data.head()"
   ]
  },
  {
   "cell_type": "code",
   "execution_count": 47,
   "id": "53255fe2-f9f9-4287-a496-939ad5496d1e",
   "metadata": {},
   "outputs": [
    {
     "data": {
      "text/plain": [
       "TV (English)           410\n",
       "TV (Non-English)       145\n",
       "Films (English)         26\n",
       "Films (Non-English)      7\n",
       "Name: category, dtype: int64"
      ]
     },
     "execution_count": 47,
     "metadata": {},
     "output_type": "execute_result"
    }
   ],
   "source": [
    "glob_show_data.category.value_counts()"
   ]
  },
  {
   "cell_type": "code",
   "execution_count": 48,
   "id": "2e242425-900d-4818-b62e-3c007c3bf5cc",
   "metadata": {},
   "outputs": [],
   "source": [
    "## filtering data and considering not null values only\n",
    "\n",
    "tv_eng = glob_show_data[glob_show_data.category == 'TV (English)']['IMDb'].dropna()\n",
    "tv_noneng = glob_show_data[glob_show_data.category == 'TV (Non-English)']['IMDb'].dropna()\n",
    "films_eng = glob_show_data[glob_show_data.category == 'Films (English)']['IMDb'].dropna()\n",
    "films_noneng = glob_show_data[glob_show_data.category == 'Films (Non-English)']['IMDb'].dropna()"
   ]
  },
  {
   "cell_type": "raw",
   "id": "334a1f62-a14c-4d4e-b904-a6b83a41e7ed",
   "metadata": {},
   "source": [
    "## Four category under same column, \n",
    "\n",
    "## we can perform two-sample t-test(taking two at a time) or ANOVA test"
   ]
  },
  {
   "cell_type": "code",
   "execution_count": 49,
   "id": "d7020206-2f7b-4ade-84a2-a2f378716f96",
   "metadata": {},
   "outputs": [],
   "source": [
    "## performing t-test\n",
    "\n",
    "t_statistics, p_value = stats.ttest_ind(tv_eng, tv_noneng)"
   ]
  },
  {
   "cell_type": "code",
   "execution_count": 50,
   "id": "883bd242-842d-45c5-8720-860e69bc3e73",
   "metadata": {},
   "outputs": [
    {
     "name": "stdout",
     "output_type": "stream",
     "text": [
      "T-statistics value is 0.4994830838794304 and P-Value is 0.6176377607433152\n"
     ]
    }
   ],
   "source": [
    "## setting significance level = 0.05\n",
    "\n",
    "alpha = 0.05\n",
    "\n",
    "print(f\"T-statistics value is {t_statistics} and P-Value is {p_value}\")"
   ]
  },
  {
   "cell_type": "code",
   "execution_count": 51,
   "id": "90ddfad8-c70b-4a0d-ba23-7884f9958f9d",
   "metadata": {},
   "outputs": [],
   "source": [
    "# tv.mean(), films.mean()"
   ]
  },
  {
   "cell_type": "code",
   "execution_count": 52,
   "id": "bfc5d774-50b4-4811-80d1-74e3f5d961af",
   "metadata": {},
   "outputs": [],
   "source": [
    "## performing ANOVA test\n",
    "\n",
    "f_statistics, p_value_anova = stats.f_oneway(tv_eng, tv_noneng, films_eng, films_noneng)"
   ]
  },
  {
   "cell_type": "code",
   "execution_count": 53,
   "id": "14ee1416-584c-44c9-b379-e0599be6ae8d",
   "metadata": {},
   "outputs": [
    {
     "name": "stdout",
     "output_type": "stream",
     "text": [
      "F-statistics value is 8.888317567654266 and P-Value is 9.121234076879603e-06\n",
      "\n",
      "Conclusion : \n",
      "\n",
      "We will REJECT the NULL Hypothesis, concludes that there is no significance differences on ratings on IMDb in different category\n"
     ]
    }
   ],
   "source": [
    "## setting significance level = 0.05\n",
    "\n",
    "alpha = 0.05\n",
    "\n",
    "print(f\"F-statistics value is {f_statistics} and P-Value is {p_value_anova}\")\n",
    "\n",
    "print(\"\\nConclusion : \\n\")\n",
    "\n",
    "if p_value_anova > alpha:\n",
    "    print(f\"P-Value, {p_value_anova} is greater than alpha, {alpha}, We fail to REJECT the NULL Hypothesis and conclude that there is significant difference in IMDb ratings in different categories\")\n",
    "else:\n",
    "    print(\"We will REJECT the NULL Hypothesis, concludes that there is no significance differences on ratings on IMDb in different category\")"
   ]
  },
  {
   "attachments": {},
   "cell_type": "markdown",
   "id": "b07c05cd-f080-4cd6-bc4f-590766d47bf0",
   "metadata": {},
   "source": [
    "### 4. Is there a correlation between IMDb ratings and Rotten Tomatoes ratings for TV shows?"
   ]
  },
  {
   "cell_type": "raw",
   "id": "e14308fd-a51a-4337-981d-6fc6411b6be8",
   "metadata": {},
   "source": [
    "NULL Hypothesis(H0) : There is no correlation between IMDb ratings and Rotten Tomatoes.\n",
    "Alternative Hypothesis(H1) : There is correlation between IMDb ratings and Rotten Tomatoes. "
   ]
  },
  {
   "cell_type": "code",
   "execution_count": 54,
   "id": "45a39366-57d1-4e06-b32b-9b61d75a21b5",
   "metadata": {},
   "outputs": [],
   "source": [
    "## using `pearsonr` function for calculation of correlation and p_value will be compared with significance level for testing\n",
    "\n",
    "## filtering data\n",
    "imdb = shows_data['IMDb'].dropna()\n",
    "rotten_tomatoes =pd.to_numeric(shows_data['Rotten_Tomatoes'].str.strip('%'), errors='coerce').dropna()\n",
    "\n",
    "## checking data\n",
    "# print(imdb.isnull().sum(), rotten_tomatoes.isnull().sum(), imdb.shape, rotten_tomatoes.shape)\n",
    "\n",
    "## taking equal sample size\n",
    "imdb_sample = imdb.sample(1000)\n",
    "rotten_tomatoes_sample = rotten_tomatoes.sample(1000)"
   ]
  },
  {
   "cell_type": "raw",
   "id": "17674caf-1ed7-44d4-a755-4c634fed3441",
   "metadata": {},
   "source": [
    "Note : \n",
    "\n",
    "`Rotten_Tomatoes` dataset was like, 89%, 96% ...\n",
    "We first converted the non-numeric data, Rotten_Tomatoes to numeric data and using str.strip function we before that removes the `%` sign.\n",
    "errors = 'coerce' will handle the errors due to non-numeric values by converting them to NaN"
   ]
  },
  {
   "cell_type": "code",
   "execution_count": 55,
   "id": "aa8bb324-4775-4692-9ab2-cc90f857a632",
   "metadata": {},
   "outputs": [
    {
     "data": {
      "text/plain": [
       "(numpy.float64, 96.0)"
      ]
     },
     "execution_count": 55,
     "metadata": {},
     "output_type": "execute_result"
    }
   ],
   "source": [
    "# imdb_sample, \n",
    "type(rotten_tomatoes_sample[0]), rotten_tomatoes_sample[0]"
   ]
  },
  {
   "cell_type": "code",
   "execution_count": 56,
   "id": "eef45507-f64f-4394-9823-fa880ed41579",
   "metadata": {},
   "outputs": [
    {
     "name": "stdout",
     "output_type": "stream",
     "text": [
      "The correlation coefficient is 0.06671479798738225 and P-Value between IMDb and Rotten Tomatoes is 0.034908436427596536\n"
     ]
    }
   ],
   "source": [
    "## applying pearsonr function for evaluating correlation_value and p_value\n",
    "\n",
    "from scipy.stats import pearsonr\n",
    "\n",
    "correlation_coefficient, p_value = pearsonr(imdb_sample, rotten_tomatoes_sample)\n",
    "\n",
    "## checking the result\n",
    "print(f\"The correlation coefficient is {correlation_coefficient} and P-Value between IMDb and Rotten Tomatoes is {p_value}\")"
   ]
  },
  {
   "cell_type": "code",
   "execution_count": 57,
   "id": "62c619d0-252d-4845-a082-6f2b0589b810",
   "metadata": {},
   "outputs": [
    {
     "name": "stdout",
     "output_type": "stream",
     "text": [
      "We REJECT the NULL Hypothesis and Concludes that There is a correlation, 0.06671479798738225 between IMDb ratings and Rotten Tomatoes ratings\n"
     ]
    }
   ],
   "source": [
    "## testing results\n",
    "\n",
    "## defining significance level\n",
    "\n",
    "alpha = 0.05\n",
    "\n",
    "if p_value > alpha:\n",
    "    print(f\"P-Value, {p_value} is learger then alpha, {alpha}, so We fail to REJECT NULL Hypothesis and Concludes that There is No Correlation between IMDb ratings and Rotten Tomatoes ratings.\")\n",
    "else:\n",
    "    print(f\"We REJECT the NULL Hypothesis and Concludes that There is a correlation, {correlation_coefficient} between IMDb ratings and Rotten Tomatoes ratings\")\n",
    "    "
   ]
  },
  {
   "attachments": {},
   "cell_type": "markdown",
   "id": "6ae1ac4c-44da-4c05-9f2b-f1a9243d086d",
   "metadata": {},
   "source": [
    "### 5. Are there significant differences in IMDb ratings between TV shows released in different years?\n"
   ]
  },
  {
   "cell_type": "code",
   "execution_count": 58,
   "id": "efc1f328-6a27-4851-b54b-a0df900010b4",
   "metadata": {},
   "outputs": [
    {
     "data": {
      "text/html": [
       "<div>\n",
       "<style scoped>\n",
       "    .dataframe tbody tr th:only-of-type {\n",
       "        vertical-align: middle;\n",
       "    }\n",
       "\n",
       "    .dataframe tbody tr th {\n",
       "        vertical-align: top;\n",
       "    }\n",
       "\n",
       "    .dataframe thead th {\n",
       "        text-align: right;\n",
       "    }\n",
       "</style>\n",
       "<table border=\"1\" class=\"dataframe\">\n",
       "  <thead>\n",
       "    <tr style=\"text-align: right;\">\n",
       "      <th></th>\n",
       "      <th>Title</th>\n",
       "      <th>Year</th>\n",
       "      <th>Age</th>\n",
       "      <th>IMDb</th>\n",
       "      <th>Rotten_Tomatoes</th>\n",
       "      <th>Netflix</th>\n",
       "      <th>Hulu</th>\n",
       "      <th>Prime_Video</th>\n",
       "      <th>Disney+</th>\n",
       "      <th>type</th>\n",
       "    </tr>\n",
       "  </thead>\n",
       "  <tbody>\n",
       "    <tr>\n",
       "      <th>0</th>\n",
       "      <td>Breaking Bad</td>\n",
       "      <td>2008</td>\n",
       "      <td>18+</td>\n",
       "      <td>9.5</td>\n",
       "      <td>96%</td>\n",
       "      <td>1</td>\n",
       "      <td>0</td>\n",
       "      <td>0</td>\n",
       "      <td>0</td>\n",
       "      <td>1.0</td>\n",
       "    </tr>\n",
       "    <tr>\n",
       "      <th>1</th>\n",
       "      <td>Stranger Things</td>\n",
       "      <td>2016</td>\n",
       "      <td>16+</td>\n",
       "      <td>8.8</td>\n",
       "      <td>93%</td>\n",
       "      <td>1</td>\n",
       "      <td>0</td>\n",
       "      <td>0</td>\n",
       "      <td>0</td>\n",
       "      <td>1.0</td>\n",
       "    </tr>\n",
       "    <tr>\n",
       "      <th>2</th>\n",
       "      <td>Money Heist</td>\n",
       "      <td>2017</td>\n",
       "      <td>18+</td>\n",
       "      <td>8.4</td>\n",
       "      <td>91%</td>\n",
       "      <td>1</td>\n",
       "      <td>0</td>\n",
       "      <td>0</td>\n",
       "      <td>0</td>\n",
       "      <td>1.0</td>\n",
       "    </tr>\n",
       "    <tr>\n",
       "      <th>3</th>\n",
       "      <td>Sherlock</td>\n",
       "      <td>2010</td>\n",
       "      <td>16+</td>\n",
       "      <td>9.1</td>\n",
       "      <td>78%</td>\n",
       "      <td>1</td>\n",
       "      <td>0</td>\n",
       "      <td>0</td>\n",
       "      <td>0</td>\n",
       "      <td>1.0</td>\n",
       "    </tr>\n",
       "  </tbody>\n",
       "</table>\n",
       "</div>"
      ],
      "text/plain": [
       "             Title  Year  Age  IMDb Rotten_Tomatoes  Netflix  Hulu  \\\n",
       "0     Breaking Bad  2008  18+   9.5             96%        1     0   \n",
       "1  Stranger Things  2016  16+   8.8             93%        1     0   \n",
       "2      Money Heist  2017  18+   8.4             91%        1     0   \n",
       "3         Sherlock  2010  16+   9.1             78%        1     0   \n",
       "\n",
       "   Prime_Video  Disney+  type  \n",
       "0            0        0   1.0  \n",
       "1            0        0   1.0  \n",
       "2            0        0   1.0  \n",
       "3            0        0   1.0  "
      ]
     },
     "execution_count": 58,
     "metadata": {},
     "output_type": "execute_result"
    }
   ],
   "source": [
    "shows_data.head(4)"
   ]
  },
  {
   "cell_type": "code",
   "execution_count": 80,
   "id": "5e34e8d2",
   "metadata": {},
   "outputs": [
    {
     "data": {
      "text/plain": [
       "(177, 10)"
      ]
     },
     "execution_count": 80,
     "metadata": {},
     "output_type": "execute_result"
    }
   ],
   "source": [
    "shows_data.query('Year == 2020')."
   ]
  },
  {
   "cell_type": "code",
   "execution_count": 83,
   "id": "515e4bd1-22e7-42b8-a1c5-a259f0abcbf9",
   "metadata": {},
   "outputs": [],
   "source": [
    "# shows_data.dropna().IMDb.value_counts()[:20].reset_index().rename(columns={'index' : 'Year', 'Year':'Values'})\n",
    "# shows_data.Year.nunique(), shows_data['Year'].max() \n",
    "# shows_data['Year'].unique()"
   ]
  },
  {
   "cell_type": "code",
   "execution_count": 60,
   "id": "588f5848-ea71-4bf0-812a-dc3722b6a96b",
   "metadata": {},
   "outputs": [
    {
     "data": {
      "text/html": [
       "<div>\n",
       "<style scoped>\n",
       "    .dataframe tbody tr th:only-of-type {\n",
       "        vertical-align: middle;\n",
       "    }\n",
       "\n",
       "    .dataframe tbody tr th {\n",
       "        vertical-align: top;\n",
       "    }\n",
       "\n",
       "    .dataframe thead th {\n",
       "        text-align: right;\n",
       "    }\n",
       "</style>\n",
       "<table border=\"1\" class=\"dataframe\">\n",
       "  <thead>\n",
       "    <tr style=\"text-align: right;\">\n",
       "      <th></th>\n",
       "      <th>Year</th>\n",
       "      <th>IMDb</th>\n",
       "    </tr>\n",
       "  </thead>\n",
       "  <tbody>\n",
       "    <tr>\n",
       "      <th>0</th>\n",
       "      <td>2008</td>\n",
       "      <td>9.5</td>\n",
       "    </tr>\n",
       "    <tr>\n",
       "      <th>1</th>\n",
       "      <td>2016</td>\n",
       "      <td>8.8</td>\n",
       "    </tr>\n",
       "    <tr>\n",
       "      <th>2</th>\n",
       "      <td>2017</td>\n",
       "      <td>8.4</td>\n",
       "    </tr>\n",
       "    <tr>\n",
       "      <th>3</th>\n",
       "      <td>2010</td>\n",
       "      <td>9.1</td>\n",
       "    </tr>\n",
       "    <tr>\n",
       "      <th>4</th>\n",
       "      <td>2015</td>\n",
       "      <td>8.7</td>\n",
       "    </tr>\n",
       "    <tr>\n",
       "      <th>5</th>\n",
       "      <td>2005</td>\n",
       "      <td>8.9</td>\n",
       "    </tr>\n",
       "    <tr>\n",
       "      <th>6</th>\n",
       "      <td>2011</td>\n",
       "      <td>8.8</td>\n",
       "    </tr>\n",
       "    <tr>\n",
       "      <th>7</th>\n",
       "      <td>2005</td>\n",
       "      <td>8.4</td>\n",
       "    </tr>\n",
       "    <tr>\n",
       "      <th>8</th>\n",
       "      <td>2013</td>\n",
       "      <td>8.8</td>\n",
       "    </tr>\n",
       "    <tr>\n",
       "      <th>9</th>\n",
       "      <td>2005</td>\n",
       "      <td>9.2</td>\n",
       "    </tr>\n",
       "  </tbody>\n",
       "</table>\n",
       "</div>"
      ],
      "text/plain": [
       "   Year  IMDb\n",
       "0  2008   9.5\n",
       "1  2016   8.8\n",
       "2  2017   8.4\n",
       "3  2010   9.1\n",
       "4  2015   8.7\n",
       "5  2005   8.9\n",
       "6  2011   8.8\n",
       "7  2005   8.4\n",
       "8  2013   8.8\n",
       "9  2005   9.2"
      ]
     },
     "execution_count": 60,
     "metadata": {},
     "output_type": "execute_result"
    }
   ],
   "source": [
    "## filtering data\n",
    "imdb_year_data = shows_data[['Year', 'IMDb']]\n",
    "imdb_year_data[:10]"
   ]
  },
  {
   "cell_type": "code",
   "execution_count": 87,
   "id": "91102faa",
   "metadata": {},
   "outputs": [
    {
     "name": "stdout",
     "output_type": "stream",
     "text": [
      "<class 'pandas.core.frame.DataFrame'>\n",
      "Int64Index: 5610 entries, 0 to 5610\n",
      "Data columns (total 2 columns):\n",
      " #   Column  Non-Null Count  Dtype  \n",
      "---  ------  --------------  -----  \n",
      " 0   Year    5610 non-null   int32  \n",
      " 1   IMDb    4450 non-null   float64\n",
      "dtypes: float64(1), int32(1)\n",
      "memory usage: 109.6 KB\n"
     ]
    }
   ],
   "source": [
    "imdb_year_data.info()"
   ]
  },
  {
   "cell_type": "code",
   "execution_count": 95,
   "id": "89b7afcd",
   "metadata": {},
   "outputs": [],
   "source": [
    "imdb_year_data = imdb_year_data.dropna()   # making sure no null values are there"
   ]
  },
  {
   "cell_type": "code",
   "execution_count": 96,
   "id": "ae17fd41",
   "metadata": {},
   "outputs": [
    {
     "name": "stdout",
     "output_type": "stream",
     "text": [
      "<class 'pandas.core.frame.DataFrame'>\n",
      "Int64Index: 4450 entries, 0 to 5602\n",
      "Data columns (total 2 columns):\n",
      " #   Column  Non-Null Count  Dtype  \n",
      "---  ------  --------------  -----  \n",
      " 0   Year    4450 non-null   int32  \n",
      " 1   IMDb    4450 non-null   float64\n",
      "dtypes: float64(1), int32(1)\n",
      "memory usage: 86.9 KB\n"
     ]
    }
   ],
   "source": [
    "imdb_year_data.info()"
   ]
  },
  {
   "cell_type": "code",
   "execution_count": 85,
   "id": "d6808b8a-94f0-4ec5-a5bd-bd6ac8535a79",
   "metadata": {},
   "outputs": [],
   "source": [
    "# ## create a function that will take the data frame and return variables which will contain `IMDb` ratings Yearwise\n",
    "\n",
    "# # def variable_create(data):\n",
    "# year_data = imdb_year_data.dropna().groupby('Year')\n",
    "\n",
    "# datasets_by_year = {}\n",
    "\n",
    "# for year, data in year_data:\n",
    "#     datasets_by_year[year] = data['IMDb'].tolist()\n",
    "\n",
    "#     ## create variables dynamically for each years datasets\n",
    "# list_of_datasets = []\n",
    "# for year, datasets in datasets_by_year.items():\n",
    "#     dataset = f\"dataset_{year}\"   #creating variables name\n",
    "#     globals()[dataset] = datasets  #storing the info\n",
    "#     list_of_datasets.append(dataset)  #appending the dataset name into list\n",
    "# #     return list_of_datasets\n",
    "# # variable_create(imdb_year_data)\n"
   ]
  },
  {
   "cell_type": "code",
   "execution_count": 98,
   "id": "0f3af38f",
   "metadata": {},
   "outputs": [
    {
     "data": {
      "text/html": [
       "<div>\n",
       "<style scoped>\n",
       "    .dataframe tbody tr th:only-of-type {\n",
       "        vertical-align: middle;\n",
       "    }\n",
       "\n",
       "    .dataframe tbody tr th {\n",
       "        vertical-align: top;\n",
       "    }\n",
       "\n",
       "    .dataframe thead th {\n",
       "        text-align: right;\n",
       "    }\n",
       "</style>\n",
       "<table border=\"1\" class=\"dataframe\">\n",
       "  <thead>\n",
       "    <tr style=\"text-align: right;\">\n",
       "      <th></th>\n",
       "      <th>country_name</th>\n",
       "      <th>country_iso2</th>\n",
       "      <th>week</th>\n",
       "      <th>category</th>\n",
       "      <th>weekly_rank</th>\n",
       "      <th>show_title</th>\n",
       "      <th>season_title</th>\n",
       "      <th>cumulative_weeks_in_top_10</th>\n",
       "    </tr>\n",
       "  </thead>\n",
       "  <tbody>\n",
       "    <tr>\n",
       "      <th>0</th>\n",
       "      <td>Argentina</td>\n",
       "      <td>AR</td>\n",
       "      <td>2023-03-05</td>\n",
       "      <td>Films</td>\n",
       "      <td>1</td>\n",
       "      <td>We Have a Ghost</td>\n",
       "      <td>NaN</td>\n",
       "      <td>2</td>\n",
       "    </tr>\n",
       "    <tr>\n",
       "      <th>1</th>\n",
       "      <td>Argentina</td>\n",
       "      <td>AR</td>\n",
       "      <td>2023-03-05</td>\n",
       "      <td>Films</td>\n",
       "      <td>2</td>\n",
       "      <td>Bad Boys for Life</td>\n",
       "      <td>NaN</td>\n",
       "      <td>2</td>\n",
       "    </tr>\n",
       "    <tr>\n",
       "      <th>2</th>\n",
       "      <td>Argentina</td>\n",
       "      <td>AR</td>\n",
       "      <td>2023-03-05</td>\n",
       "      <td>Films</td>\n",
       "      <td>3</td>\n",
       "      <td>The Condemned</td>\n",
       "      <td>NaN</td>\n",
       "      <td>1</td>\n",
       "    </tr>\n",
       "    <tr>\n",
       "      <th>3</th>\n",
       "      <td>Argentina</td>\n",
       "      <td>AR</td>\n",
       "      <td>2023-03-05</td>\n",
       "      <td>Films</td>\n",
       "      <td>4</td>\n",
       "      <td>Love at First Kiss</td>\n",
       "      <td>NaN</td>\n",
       "      <td>1</td>\n",
       "    </tr>\n",
       "    <tr>\n",
       "      <th>4</th>\n",
       "      <td>Argentina</td>\n",
       "      <td>AR</td>\n",
       "      <td>2023-03-05</td>\n",
       "      <td>Films</td>\n",
       "      <td>5</td>\n",
       "      <td>Tonight You're Sleeping with Me</td>\n",
       "      <td>NaN</td>\n",
       "      <td>1</td>\n",
       "    </tr>\n",
       "  </tbody>\n",
       "</table>\n",
       "</div>"
      ],
      "text/plain": [
       "  country_name country_iso2        week category  weekly_rank  \\\n",
       "0    Argentina           AR  2023-03-05    Films            1   \n",
       "1    Argentina           AR  2023-03-05    Films            2   \n",
       "2    Argentina           AR  2023-03-05    Films            3   \n",
       "3    Argentina           AR  2023-03-05    Films            4   \n",
       "4    Argentina           AR  2023-03-05    Films            5   \n",
       "\n",
       "                        show_title season_title  cumulative_weeks_in_top_10  \n",
       "0                  We Have a Ghost          NaN                           2  \n",
       "1                Bad Boys for Life          NaN                           2  \n",
       "2                    The Condemned          NaN                           1  \n",
       "3               Love at First Kiss          NaN                           1  \n",
       "4  Tonight You're Sleeping with Me          NaN                           1  "
      ]
     },
     "execution_count": 98,
     "metadata": {},
     "output_type": "execute_result"
    }
   ],
   "source": [
    "countries_data.head()"
   ]
  },
  {
   "cell_type": "code",
   "execution_count": 99,
   "id": "f16b3d5d",
   "metadata": {},
   "outputs": [
    {
     "data": {
      "text/plain": [
       "Films    82190\n",
       "TV       82190\n",
       "Name: category, dtype: int64"
      ]
     },
     "execution_count": 99,
     "metadata": {},
     "output_type": "execute_result"
    }
   ],
   "source": [
    "countries_data.category.value_counts()"
   ]
  },
  {
   "cell_type": "code",
   "execution_count": 102,
   "id": "43fbf474",
   "metadata": {},
   "outputs": [
    {
     "data": {
      "text/plain": [
       "(31664, 18)"
      ]
     },
     "execution_count": 102,
     "metadata": {},
     "output_type": "execute_result"
    }
   ],
   "source": [
    "## Merge two dataframes, countries_data and shows_data based on 'Title'  \n",
    "\n",
    "country_show_data = pd.merge(countries_data, shows_data, left_on='show_title', \n",
    "                                                        right_on='Title',\n",
    "                                                        how = 'inner')\n",
    "\n",
    "\n",
    "country_show_data.shape"
   ]
  },
  {
   "cell_type": "code",
   "execution_count": 103,
   "id": "71fa7e0d",
   "metadata": {},
   "outputs": [
    {
     "data": {
      "text/plain": [
       "Index(['country_name', 'country_iso2', 'week', 'category', 'weekly_rank',\n",
       "       'show_title', 'season_title', 'cumulative_weeks_in_top_10', 'Title',\n",
       "       'Year', 'Age', 'IMDb', 'Rotten_Tomatoes', 'Netflix', 'Hulu',\n",
       "       'Prime_Video', 'Disney+', 'type'],\n",
       "      dtype='object')"
      ]
     },
     "execution_count": 103,
     "metadata": {},
     "output_type": "execute_result"
    }
   ],
   "source": [
    "country_show_data.columns"
   ]
  },
  {
   "cell_type": "code",
   "execution_count": 107,
   "id": "0c314d65",
   "metadata": {},
   "outputs": [
    {
     "data": {
      "text/plain": [
       "(308, 308)"
      ]
     },
     "execution_count": 107,
     "metadata": {},
     "output_type": "execute_result"
    }
   ],
   "source": [
    "country_show_data.Title.nunique(), country_show_data.show_title.nunique()"
   ]
  },
  {
   "cell_type": "code",
   "execution_count": 105,
   "id": "201b10d9",
   "metadata": {},
   "outputs": [
    {
     "data": {
      "text/html": [
       "<div>\n",
       "<style scoped>\n",
       "    .dataframe tbody tr th:only-of-type {\n",
       "        vertical-align: middle;\n",
       "    }\n",
       "\n",
       "    .dataframe tbody tr th {\n",
       "        vertical-align: top;\n",
       "    }\n",
       "\n",
       "    .dataframe thead th {\n",
       "        text-align: right;\n",
       "    }\n",
       "</style>\n",
       "<table border=\"1\" class=\"dataframe\">\n",
       "  <thead>\n",
       "    <tr style=\"text-align: right;\">\n",
       "      <th></th>\n",
       "      <th>Year</th>\n",
       "      <th>IMDb</th>\n",
       "      <th>category</th>\n",
       "    </tr>\n",
       "  </thead>\n",
       "  <tbody>\n",
       "    <tr>\n",
       "      <th>0</th>\n",
       "      <td>2017</td>\n",
       "      <td>7.2</td>\n",
       "      <td>Films</td>\n",
       "    </tr>\n",
       "    <tr>\n",
       "      <th>1</th>\n",
       "      <td>2017</td>\n",
       "      <td>7.2</td>\n",
       "      <td>Films</td>\n",
       "    </tr>\n",
       "    <tr>\n",
       "      <th>2</th>\n",
       "      <td>2017</td>\n",
       "      <td>7.2</td>\n",
       "      <td>Films</td>\n",
       "    </tr>\n",
       "    <tr>\n",
       "      <th>3</th>\n",
       "      <td>2017</td>\n",
       "      <td>7.2</td>\n",
       "      <td>Films</td>\n",
       "    </tr>\n",
       "    <tr>\n",
       "      <th>4</th>\n",
       "      <td>2017</td>\n",
       "      <td>7.2</td>\n",
       "      <td>Films</td>\n",
       "    </tr>\n",
       "  </tbody>\n",
       "</table>\n",
       "</div>"
      ],
      "text/plain": [
       "   Year  IMDb category\n",
       "0  2017   7.2    Films\n",
       "1  2017   7.2    Films\n",
       "2  2017   7.2    Films\n",
       "3  2017   7.2    Films\n",
       "4  2017   7.2    Films"
      ]
     },
     "execution_count": 105,
     "metadata": {},
     "output_type": "execute_result"
    }
   ],
   "source": [
    "## filtering data columns as per need\n",
    "yearly_rating_data = country_show_data[['Year', 'IMDb', 'category']]\n",
    "\n",
    "yearly_rating_data.head()"
   ]
  },
  {
   "cell_type": "code",
   "execution_count": 112,
   "id": "9b8c6178",
   "metadata": {},
   "outputs": [
    {
     "data": {
      "text/plain": [
       "TV    29423\n",
       "Name: category, dtype: int64"
      ]
     },
     "execution_count": 112,
     "metadata": {},
     "output_type": "execute_result"
    }
   ],
   "source": [
    "## basic processing the data\n",
    "\n",
    "# yearly_rating_data.Year.value_counts()\n",
    "\n",
    "yearly_rating_data = yearly_rating_data[yearly_rating_data.category == 'TV']\n",
    "yearly_rating_data.category.value_counts()"
   ]
  },
  {
   "cell_type": "code",
   "execution_count": 117,
   "id": "eb2cb968",
   "metadata": {},
   "outputs": [],
   "source": [
    "# yearly_rating_data.Year.value_counts()\n",
    "yearly_rating_data = yearly_rating_data.dropna()  # droping all null values"
   ]
  },
  {
   "cell_type": "code",
   "execution_count": 118,
   "id": "3c48b31c",
   "metadata": {},
   "outputs": [
    {
     "name": "stdout",
     "output_type": "stream",
     "text": [
      "<class 'pandas.core.frame.DataFrame'>\n",
      "Int64Index: 29394 entries, 5 to 31663\n",
      "Data columns (total 3 columns):\n",
      " #   Column    Non-Null Count  Dtype  \n",
      "---  ------    --------------  -----  \n",
      " 0   Year      29394 non-null  int32  \n",
      " 1   IMDb      29394 non-null  float64\n",
      " 2   category  29394 non-null  object \n",
      "dtypes: float64(1), int32(1), object(1)\n",
      "memory usage: 803.7+ KB\n"
     ]
    }
   ],
   "source": [
    "yearly_rating_data.info()"
   ]
  },
  {
   "cell_type": "code",
   "execution_count": 121,
   "id": "afa0e6a1",
   "metadata": {},
   "outputs": [
    {
     "data": {
      "text/plain": [
       "2017    6081\n",
       "2018    5534\n",
       "2016    4857\n",
       "2019    4293\n",
       "2020    3671\n",
       "2015    1129\n",
       "2013    1012\n",
       "2011     829\n",
       "2014     657\n",
       "1965     333\n",
       "Name: Year, dtype: int64"
      ]
     },
     "execution_count": 121,
     "metadata": {},
     "output_type": "execute_result"
    }
   ],
   "source": [
    "yearly_rating_data.Year.value_counts()[:10]"
   ]
  },
  {
   "cell_type": "code",
   "execution_count": 125,
   "id": "107eff9a",
   "metadata": {},
   "outputs": [],
   "source": [
    "## filtering data for each year\n",
    "\n",
    "data_2017 = yearly_rating_data[yearly_rating_data.Year == 2017]['IMDb']\n",
    "data_2018 = yearly_rating_data[yearly_rating_data.Year == 2018]['IMDb']\n",
    "data_2016 = yearly_rating_data[yearly_rating_data.Year == 2016]['IMDb']\n",
    "data_2019 = yearly_rating_data[yearly_rating_data.Year == 2019]['IMDb']\n",
    "data_2020 = yearly_rating_data[yearly_rating_data.Year == 2020]['IMDb']\n",
    "data_2015 = yearly_rating_data[yearly_rating_data.Year == 2015]['IMDb']\n",
    "data_2013 = yearly_rating_data[yearly_rating_data.Year == 2013]['IMDb']\n",
    "data_2011 = yearly_rating_data[yearly_rating_data.Year == 2011]['IMDb']\n",
    "data_2014 = yearly_rating_data[yearly_rating_data.Year == 2014]['IMDb']\n",
    "data_1965 = yearly_rating_data[yearly_rating_data.Year == 1965]['IMDb']\n",
    "\n",
    "# data_2017.mean()"
   ]
  },
  {
   "cell_type": "code",
   "execution_count": 130,
   "id": "01f8ca2f",
   "metadata": {},
   "outputs": [
    {
     "name": "stdout",
     "output_type": "stream",
     "text": [
      "[7.200000000000001, 8.273703256936066, 8.446837944664033, 7.787823439878235, 8.129406554472984, 8.638768787317273, 8.072175629008388, 7.51928080954102, 7.857791754018169, 7.124707164260419]\n"
     ]
    }
   ],
   "source": [
    "## manual testing\n",
    "\n",
    "print([data_1965.mean(), \n",
    "      data_2011.mean(),\n",
    "      data_2013.mean(),\n",
    "      data_2014.mean(),\n",
    "      data_2015.mean(),\n",
    "      data_2016.mean(),\n",
    "      data_2017.mean(),\n",
    "      data_2018.mean(),\n",
    "      data_2019.mean(),\n",
    "      data_2020.mean()])"
   ]
  },
  {
   "attachments": {},
   "cell_type": "raw",
   "id": "f71ff24e",
   "metadata": {},
   "source": [
    "NULL Hypothesis(H0) : There is no significant difference in IMDb ratings between shows released in different years.\n",
    "\n",
    "Alternate Hypothesis(H1) : There is a significant difference in IMDb ratings between shows released in different years."
   ]
  },
  {
   "cell_type": "code",
   "execution_count": 136,
   "id": "b2f82ac4",
   "metadata": {},
   "outputs": [
    {
     "name": "stdout",
     "output_type": "stream",
     "text": [
      "The statistics value of the test is 1771.2208941502229, and P-Value is 0.0\n",
      "We REJECT the NULL Hypothesis and that concludes that there is difference between IMDb ratings yearwise.\n"
     ]
    }
   ],
   "source": [
    "## hypothesis testing\n",
    "\n",
    "## significance level defining\n",
    "\n",
    "alpha = 0.05\n",
    "\n",
    "## testing within column for multiple category\n",
    "\n",
    "f_statistics, p_value = stats.f_oneway(data_1965, \n",
    "                                       data_2020, \n",
    "                                       data_2011,\n",
    "                                       data_2013,\n",
    "                                       data_2014,\n",
    "                                       data_2015,\n",
    "                                       data_2016,\n",
    "                                       data_2017,\n",
    "                                       data_2018,\n",
    "                                       data_2019)\n",
    "\n",
    "\n",
    "## results\n",
    "\n",
    "print(f\"The statistics value of the test is {f_statistics}, and P-Value is {p_value}\")\n",
    "\n",
    "\n",
    "## conclusion\n",
    "\n",
    "if p_value > alpha:\n",
    "    print(\"The P-Value, {p_value} is greater than significance level, {alpha} and Thus we concludes that We cannot REJECT the NULL Hypothesis and that means There is no difference between IMDb ratings yearwise\")\n",
    "else:\n",
    "    print(\"We REJECT the NULL Hypothesis and that concludes that there is difference between IMDb ratings yearwise.\")"
   ]
  },
  {
   "attachments": {},
   "cell_type": "markdown",
   "id": "df393d0b",
   "metadata": {},
   "source": [
    "### 6. Is there a relationship between the cumulative weeks in the top 10 and IMDb ratings of TV shows?\n"
   ]
  },
  {
   "cell_type": "code",
   "execution_count": 146,
   "id": "bc14fba1",
   "metadata": {},
   "outputs": [
    {
     "name": "stdout",
     "output_type": "stream",
     "text": [
      "<class 'pandas.core.frame.DataFrame'>\n",
      "Int64Index: 588 entries, 0 to 587\n",
      "Data columns (total 17 columns):\n",
      " #   Column                      Non-Null Count  Dtype  \n",
      "---  ------                      --------------  -----  \n",
      " 0   week                        588 non-null    object \n",
      " 1   category                    588 non-null    object \n",
      " 2   weekly_rank                 588 non-null    int64  \n",
      " 3   show_title                  588 non-null    object \n",
      " 4   season_title                545 non-null    object \n",
      " 5   weekly_hours_viewed         588 non-null    int64  \n",
      " 6   cumulative_weeks_in_top_10  588 non-null    int64  \n",
      " 7   Title                       588 non-null    object \n",
      " 8   Year                        588 non-null    int32  \n",
      " 9   Age                         550 non-null    object \n",
      " 10  IMDb                        584 non-null    float64\n",
      " 11  Rotten_Tomatoes             419 non-null    object \n",
      " 12  Netflix                     588 non-null    int64  \n",
      " 13  Hulu                        588 non-null    int64  \n",
      " 14  Prime_Video                 588 non-null    int64  \n",
      " 15  Disney+                     588 non-null    int64  \n",
      " 16  type                        588 non-null    float64\n",
      "dtypes: float64(2), int32(1), int64(7), object(7)\n",
      "memory usage: 80.4+ KB\n"
     ]
    }
   ],
   "source": [
    "## merging data for tests\n",
    "\n",
    "global_shows_data = pd.merge(global_data, shows_data, left_on = 'show_title',\n",
    "                                                      right_on='Title',\n",
    "                                                      how = 'inner')\n",
    "\n",
    "global_shows_data.shape\n",
    "global_shows_data.info()\n"
   ]
  },
  {
   "cell_type": "code",
   "execution_count": 158,
   "id": "f7e3ee25",
   "metadata": {},
   "outputs": [],
   "source": [
    "# global_data.columns\n",
    "\n",
    "## filtering data for testing\n",
    "cumulative_weeks_in_top_10 = global_shows_data.query('category == [\"TV (English)\", \"TV (Non-English)\"]')['cumulative_weeks_in_top_10'].sample(300)\n",
    "\n",
    "imdb_rating = global_shows_data.query('category == [\"TV (English)\", \"TV (Non-English)\"]')['IMDb'].sample(300)\n"
   ]
  },
  {
   "cell_type": "code",
   "execution_count": 159,
   "id": "df3afe97",
   "metadata": {},
   "outputs": [
    {
     "data": {
      "text/plain": [
       "((300,), (300,))"
      ]
     },
     "execution_count": 159,
     "metadata": {},
     "output_type": "execute_result"
    }
   ],
   "source": [
    "# global_shows_data.IMDb\n",
    "# global_shows_data.category.value_counts()\n",
    "cumulative_weeks_in_top_10.shape, imdb_rating.shape"
   ]
  },
  {
   "attachments": {},
   "cell_type": "raw",
   "id": "360a35c9",
   "metadata": {},
   "source": [
    "NULL HYPOTHESIS(H0): There is no relationship between the cumulative weeks in the top 10 and IMDb ratings of TV shows.\n",
    "\n",
    "ALTERNATIVE HYPOTHESIS(H1): There is a relationship between the cumulative weeks in the top 10 and IMDb ratings of TV shows."
   ]
  },
  {
   "cell_type": "code",
   "execution_count": 162,
   "id": "bbeb2ad7",
   "metadata": {},
   "outputs": [
    {
     "name": "stdout",
     "output_type": "stream",
     "text": [
      "The correlation coefficient is -0.11116161895836395 and P-Value between cumulative weeks in the top 10 and IMDb ratings of TV shows is 0.054442053985616606\n"
     ]
    }
   ],
   "source": [
    "## Pearson Correlation\n",
    "\n",
    "## defining the significance level\n",
    "\n",
    "alpha = 0.05\n",
    "\n",
    "correlation_coefficient, p_value = stats.pearsonr(cumulative_weeks_in_top_10, imdb_rating)\n",
    "\n",
    "## checking the result\n",
    "print(f\"The correlation coefficient is {correlation_coefficient} and P-Value between cumulative weeks in the top 10 and IMDb ratings of TV shows is {p_value}\")"
   ]
  },
  {
   "cell_type": "code",
   "execution_count": 163,
   "id": "ff3bcd85",
   "metadata": {},
   "outputs": [
    {
     "name": "stdout",
     "output_type": "stream",
     "text": [
      "P-Value, 0.054442053985616606 is learger then alpha, 0.05, so We fail to REJECT NULL Hypothesis and Concludes that There is no relationship between the cumulative weeks in the top 10 and IMDb ratings of TV shows.\n"
     ]
    }
   ],
   "source": [
    "## Conclusion\n",
    "\n",
    "if p_value > alpha:\n",
    "    print(f\"P-Value, {p_value} is learger then alpha, {alpha}, so We fail to REJECT NULL Hypothesis and Concludes that There is no relationship between the cumulative weeks in the top 10 and IMDb ratings of TV shows.\")\n",
    "else:\n",
    "    print(f\"We REJECT the NULL Hypothesis and Concludes that There is a correlation, {correlation_coefficient} between the cumulative weeks in the top 10 and IMDb ratings of TV shows\")\n",
    "    "
   ]
  },
  {
   "cell_type": "code",
   "execution_count": null,
   "id": "3b0bc162",
   "metadata": {},
   "outputs": [],
   "source": []
  }
 ],
 "metadata": {
  "kernelspec": {
   "display_name": "Python 3 (ipykernel)",
   "language": "python",
   "name": "python3"
  },
  "language_info": {
   "codemirror_mode": {
    "name": "ipython",
    "version": 3
   },
   "file_extension": ".py",
   "mimetype": "text/x-python",
   "name": "python",
   "nbconvert_exporter": "python",
   "pygments_lexer": "ipython3",
   "version": "3.10.9"
  },
  "toc-autonumbering": false,
  "toc-showcode": false
 },
 "nbformat": 4,
 "nbformat_minor": 5
}
