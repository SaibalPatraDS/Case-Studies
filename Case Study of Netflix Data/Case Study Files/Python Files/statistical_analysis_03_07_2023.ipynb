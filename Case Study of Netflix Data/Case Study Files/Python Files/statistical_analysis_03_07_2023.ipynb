{
 "cells": [
  {
   "cell_type": "code",
   "execution_count": 89,
   "id": "3456c264-0531-4aa6-9881-338336627542",
   "metadata": {},
   "outputs": [],
   "source": [
    "import pandas as pd\n",
    "import numpy as np \n",
    "\n",
    "import statistics\n",
    "from scipy import stats\n",
    "\n",
    "import matplotlib.pyplot as plt\n",
    "import seaborn as sns"
   ]
  },
  {
   "cell_type": "code",
   "execution_count": 3,
   "id": "2612b177-54f8-4970-bdf6-322023b90afa",
   "metadata": {},
   "outputs": [],
   "source": [
    "pd.set_option(\"display.max_rows\", 1000)\n",
    "pd.set_option(\"display.max_columns\", 25)"
   ]
  },
  {
   "cell_type": "code",
   "execution_count": 5,
   "id": "93bc6ce9-4e7b-4310-927b-335ddf540e4a",
   "metadata": {},
   "outputs": [
    {
     "data": {
      "text/html": [
       "<div>\n",
       "<style scoped>\n",
       "    .dataframe tbody tr th:only-of-type {\n",
       "        vertical-align: middle;\n",
       "    }\n",
       "\n",
       "    .dataframe tbody tr th {\n",
       "        vertical-align: top;\n",
       "    }\n",
       "\n",
       "    .dataframe thead th {\n",
       "        text-align: right;\n",
       "    }\n",
       "</style>\n",
       "<table border=\"1\" class=\"dataframe\">\n",
       "  <thead>\n",
       "    <tr style=\"text-align: right;\">\n",
       "      <th></th>\n",
       "      <th>country_name</th>\n",
       "      <th>country_iso2</th>\n",
       "      <th>week</th>\n",
       "      <th>category</th>\n",
       "      <th>weekly_rank</th>\n",
       "      <th>show_title</th>\n",
       "      <th>season_title</th>\n",
       "      <th>cumulative_weeks_in_top_10</th>\n",
       "    </tr>\n",
       "  </thead>\n",
       "  <tbody>\n",
       "    <tr>\n",
       "      <th>0</th>\n",
       "      <td>Argentina</td>\n",
       "      <td>AR</td>\n",
       "      <td>2023-03-05</td>\n",
       "      <td>Films</td>\n",
       "      <td>1</td>\n",
       "      <td>We Have a Ghost</td>\n",
       "      <td>NaN</td>\n",
       "      <td>2</td>\n",
       "    </tr>\n",
       "    <tr>\n",
       "      <th>1</th>\n",
       "      <td>Argentina</td>\n",
       "      <td>AR</td>\n",
       "      <td>2023-03-05</td>\n",
       "      <td>Films</td>\n",
       "      <td>2</td>\n",
       "      <td>Bad Boys for Life</td>\n",
       "      <td>NaN</td>\n",
       "      <td>2</td>\n",
       "    </tr>\n",
       "    <tr>\n",
       "      <th>2</th>\n",
       "      <td>Argentina</td>\n",
       "      <td>AR</td>\n",
       "      <td>2023-03-05</td>\n",
       "      <td>Films</td>\n",
       "      <td>3</td>\n",
       "      <td>The Condemned</td>\n",
       "      <td>NaN</td>\n",
       "      <td>1</td>\n",
       "    </tr>\n",
       "    <tr>\n",
       "      <th>3</th>\n",
       "      <td>Argentina</td>\n",
       "      <td>AR</td>\n",
       "      <td>2023-03-05</td>\n",
       "      <td>Films</td>\n",
       "      <td>4</td>\n",
       "      <td>Love at First Kiss</td>\n",
       "      <td>NaN</td>\n",
       "      <td>1</td>\n",
       "    </tr>\n",
       "    <tr>\n",
       "      <th>4</th>\n",
       "      <td>Argentina</td>\n",
       "      <td>AR</td>\n",
       "      <td>2023-03-05</td>\n",
       "      <td>Films</td>\n",
       "      <td>5</td>\n",
       "      <td>Tonight You're Sleeping with Me</td>\n",
       "      <td>NaN</td>\n",
       "      <td>1</td>\n",
       "    </tr>\n",
       "  </tbody>\n",
       "</table>\n",
       "</div>"
      ],
      "text/plain": [
       "  country_name country_iso2        week category  weekly_rank  \\\n",
       "0    Argentina           AR  2023-03-05    Films            1   \n",
       "1    Argentina           AR  2023-03-05    Films            2   \n",
       "2    Argentina           AR  2023-03-05    Films            3   \n",
       "3    Argentina           AR  2023-03-05    Films            4   \n",
       "4    Argentina           AR  2023-03-05    Films            5   \n",
       "\n",
       "                        show_title season_title  cumulative_weeks_in_top_10  \n",
       "0                  We Have a Ghost          NaN                           2  \n",
       "1                Bad Boys for Life          NaN                           2  \n",
       "2                    The Condemned          NaN                           1  \n",
       "3               Love at First Kiss          NaN                           1  \n",
       "4  Tonight You're Sleeping with Me          NaN                           1  "
      ]
     },
     "execution_count": 5,
     "metadata": {},
     "output_type": "execute_result"
    }
   ],
   "source": [
    "countries_data = pd.read_csv(\"Data/all-weeks-countries.csv\", encoding = 'cp1252')\n",
    "countries_data.head()"
   ]
  },
  {
   "cell_type": "code",
   "execution_count": 247,
   "id": "53c90a0f-bae0-40fb-95da-4fa0819d30b2",
   "metadata": {},
   "outputs": [
    {
     "data": {
      "text/plain": [
       "Films    82190\n",
       "TV       82190\n",
       "Name: category, dtype: int64"
      ]
     },
     "execution_count": 247,
     "metadata": {},
     "output_type": "execute_result"
    }
   ],
   "source": [
    "# countries_data.country_name.nunique()\n",
    "# countries_data.week.max()\n",
    "countries_data.category.value_counts()"
   ]
  },
  {
   "cell_type": "code",
   "execution_count": 7,
   "id": "42eab91d-4946-41f9-a88d-ead2a10f312f",
   "metadata": {},
   "outputs": [
    {
     "data": {
      "text/html": [
       "<div>\n",
       "<style scoped>\n",
       "    .dataframe tbody tr th:only-of-type {\n",
       "        vertical-align: middle;\n",
       "    }\n",
       "\n",
       "    .dataframe tbody tr th {\n",
       "        vertical-align: top;\n",
       "    }\n",
       "\n",
       "    .dataframe thead th {\n",
       "        text-align: right;\n",
       "    }\n",
       "</style>\n",
       "<table border=\"1\" class=\"dataframe\">\n",
       "  <thead>\n",
       "    <tr style=\"text-align: right;\">\n",
       "      <th></th>\n",
       "      <th>week</th>\n",
       "      <th>category</th>\n",
       "      <th>weekly_rank</th>\n",
       "      <th>show_title</th>\n",
       "      <th>season_title</th>\n",
       "      <th>weekly_hours_viewed</th>\n",
       "      <th>cumulative_weeks_in_top_10</th>\n",
       "    </tr>\n",
       "  </thead>\n",
       "  <tbody>\n",
       "    <tr>\n",
       "      <th>0</th>\n",
       "      <td>2023-03-05</td>\n",
       "      <td>Films (English)</td>\n",
       "      <td>1</td>\n",
       "      <td>We Have a Ghost</td>\n",
       "      <td>NaN</td>\n",
       "      <td>42620000</td>\n",
       "      <td>2</td>\n",
       "    </tr>\n",
       "    <tr>\n",
       "      <th>1</th>\n",
       "      <td>2023-03-05</td>\n",
       "      <td>Films (English)</td>\n",
       "      <td>2</td>\n",
       "      <td>The Strays</td>\n",
       "      <td>NaN</td>\n",
       "      <td>14570000</td>\n",
       "      <td>2</td>\n",
       "    </tr>\n",
       "    <tr>\n",
       "      <th>2</th>\n",
       "      <td>2023-03-05</td>\n",
       "      <td>Films (English)</td>\n",
       "      <td>3</td>\n",
       "      <td>The Condemned</td>\n",
       "      <td>NaN</td>\n",
       "      <td>10230000</td>\n",
       "      <td>1</td>\n",
       "    </tr>\n",
       "    <tr>\n",
       "      <th>3</th>\n",
       "      <td>2023-03-05</td>\n",
       "      <td>Films (English)</td>\n",
       "      <td>4</td>\n",
       "      <td>R.I.P.D.</td>\n",
       "      <td>NaN</td>\n",
       "      <td>8330000</td>\n",
       "      <td>1</td>\n",
       "    </tr>\n",
       "    <tr>\n",
       "      <th>4</th>\n",
       "      <td>2023-03-05</td>\n",
       "      <td>Films (English)</td>\n",
       "      <td>5</td>\n",
       "      <td>Bad Boys for Life</td>\n",
       "      <td>NaN</td>\n",
       "      <td>8330000</td>\n",
       "      <td>2</td>\n",
       "    </tr>\n",
       "  </tbody>\n",
       "</table>\n",
       "</div>"
      ],
      "text/plain": [
       "         week         category  weekly_rank         show_title season_title  \\\n",
       "0  2023-03-05  Films (English)            1    We Have a Ghost          NaN   \n",
       "1  2023-03-05  Films (English)            2         The Strays          NaN   \n",
       "2  2023-03-05  Films (English)            3      The Condemned          NaN   \n",
       "3  2023-03-05  Films (English)            4           R.I.P.D.          NaN   \n",
       "4  2023-03-05  Films (English)            5  Bad Boys for Life          NaN   \n",
       "\n",
       "   weekly_hours_viewed  cumulative_weeks_in_top_10  \n",
       "0             42620000                           2  \n",
       "1             14570000                           2  \n",
       "2             10230000                           1  \n",
       "3              8330000                           1  \n",
       "4              8330000                           2  "
      ]
     },
     "execution_count": 7,
     "metadata": {},
     "output_type": "execute_result"
    }
   ],
   "source": [
    "global_data = pd.read_csv(\"Data/all-weeks-global.csv\", encoding = 'cp1252')\n",
    "global_data.head()"
   ]
  },
  {
   "cell_type": "code",
   "execution_count": 249,
   "id": "acfee2cb-2c28-445f-b0ce-d64d22fd8c2b",
   "metadata": {},
   "outputs": [
    {
     "data": {
      "text/plain": [
       "'2021-07-04'"
      ]
     },
     "execution_count": 249,
     "metadata": {},
     "output_type": "execute_result"
    }
   ],
   "source": [
    "global_data.week.min()"
   ]
  },
  {
   "cell_type": "code",
   "execution_count": 11,
   "id": "5fd4ae13-d328-4fce-b4c5-032a0c7e02d3",
   "metadata": {},
   "outputs": [
    {
     "data": {
      "text/html": [
       "<div>\n",
       "<style scoped>\n",
       "    .dataframe tbody tr th:only-of-type {\n",
       "        vertical-align: middle;\n",
       "    }\n",
       "\n",
       "    .dataframe tbody tr th {\n",
       "        vertical-align: top;\n",
       "    }\n",
       "\n",
       "    .dataframe thead th {\n",
       "        text-align: right;\n",
       "    }\n",
       "</style>\n",
       "<table border=\"1\" class=\"dataframe\">\n",
       "  <thead>\n",
       "    <tr style=\"text-align: right;\">\n",
       "      <th></th>\n",
       "      <th>category</th>\n",
       "      <th>rank</th>\n",
       "      <th>show_title</th>\n",
       "      <th>season_title</th>\n",
       "      <th>hours_viewed_first_28_days</th>\n",
       "    </tr>\n",
       "  </thead>\n",
       "  <tbody>\n",
       "    <tr>\n",
       "      <th>0</th>\n",
       "      <td>Films (English)</td>\n",
       "      <td>1</td>\n",
       "      <td>Red Notice</td>\n",
       "      <td>NaN</td>\n",
       "      <td>364020000</td>\n",
       "    </tr>\n",
       "    <tr>\n",
       "      <th>1</th>\n",
       "      <td>Films (English)</td>\n",
       "      <td>2</td>\n",
       "      <td>Don't Look Up</td>\n",
       "      <td>NaN</td>\n",
       "      <td>359790000</td>\n",
       "    </tr>\n",
       "    <tr>\n",
       "      <th>2</th>\n",
       "      <td>Films (English)</td>\n",
       "      <td>3</td>\n",
       "      <td>Bird Box</td>\n",
       "      <td>NaN</td>\n",
       "      <td>282020000</td>\n",
       "    </tr>\n",
       "    <tr>\n",
       "      <th>3</th>\n",
       "      <td>Films (English)</td>\n",
       "      <td>4</td>\n",
       "      <td>Glass Onion: A Knives Out Mystery</td>\n",
       "      <td>NaN</td>\n",
       "      <td>279740000</td>\n",
       "    </tr>\n",
       "    <tr>\n",
       "      <th>4</th>\n",
       "      <td>Films (English)</td>\n",
       "      <td>5</td>\n",
       "      <td>The Gray Man</td>\n",
       "      <td>NaN</td>\n",
       "      <td>253870000</td>\n",
       "    </tr>\n",
       "  </tbody>\n",
       "</table>\n",
       "</div>"
      ],
      "text/plain": [
       "          category  rank                         show_title season_title  \\\n",
       "0  Films (English)     1                         Red Notice          NaN   \n",
       "1  Films (English)     2                      Don't Look Up          NaN   \n",
       "2  Films (English)     3                           Bird Box          NaN   \n",
       "3  Films (English)     4  Glass Onion: A Knives Out Mystery          NaN   \n",
       "4  Films (English)     5                       The Gray Man          NaN   \n",
       "\n",
       "   hours_viewed_first_28_days  \n",
       "0                   364020000  \n",
       "1                   359790000  \n",
       "2                   282020000  \n",
       "3                   279740000  \n",
       "4                   253870000  "
      ]
     },
     "execution_count": 11,
     "metadata": {},
     "output_type": "execute_result"
    }
   ],
   "source": [
    "popular_data = pd.read_csv(\"Data/most-popular.csv\", encoding = 'cp1252')\n",
    "popular_data.head()"
   ]
  },
  {
   "cell_type": "code",
   "execution_count": 251,
   "id": "7a7d233a-1d6a-4c27-bac4-be1146b6a1ec",
   "metadata": {},
   "outputs": [
    {
     "data": {
      "text/plain": [
       "Films (English)        10\n",
       "Films (Non-English)    10\n",
       "TV (English)           10\n",
       "TV (Non-English)       10\n",
       "Name: category, dtype: int64"
      ]
     },
     "execution_count": 251,
     "metadata": {},
     "output_type": "execute_result"
    }
   ],
   "source": [
    "popular_data.category.value_counts()"
   ]
  },
  {
   "cell_type": "code",
   "execution_count": 78,
   "id": "61a45f56-4456-4a42-820a-839e320c47d9",
   "metadata": {},
   "outputs": [
    {
     "data": {
      "text/html": [
       "<div>\n",
       "<style scoped>\n",
       "    .dataframe tbody tr th:only-of-type {\n",
       "        vertical-align: middle;\n",
       "    }\n",
       "\n",
       "    .dataframe tbody tr th {\n",
       "        vertical-align: top;\n",
       "    }\n",
       "\n",
       "    .dataframe thead th {\n",
       "        text-align: right;\n",
       "    }\n",
       "</style>\n",
       "<table border=\"1\" class=\"dataframe\">\n",
       "  <thead>\n",
       "    <tr style=\"text-align: right;\">\n",
       "      <th></th>\n",
       "      <th>Title</th>\n",
       "      <th>Year</th>\n",
       "      <th>Age</th>\n",
       "      <th>IMDb</th>\n",
       "      <th>Rotten Tomatoes</th>\n",
       "      <th>Netflix</th>\n",
       "      <th>Hulu</th>\n",
       "      <th>Prime Video</th>\n",
       "      <th>Disney+</th>\n",
       "      <th>type</th>\n",
       "    </tr>\n",
       "  </thead>\n",
       "  <tbody>\n",
       "    <tr>\n",
       "      <th>0</th>\n",
       "      <td>Breaking Bad</td>\n",
       "      <td>2008.0</td>\n",
       "      <td>18+</td>\n",
       "      <td>9.5</td>\n",
       "      <td>96%</td>\n",
       "      <td>1</td>\n",
       "      <td>0</td>\n",
       "      <td>0</td>\n",
       "      <td>0</td>\n",
       "      <td>1.0</td>\n",
       "    </tr>\n",
       "    <tr>\n",
       "      <th>1</th>\n",
       "      <td>Stranger Things</td>\n",
       "      <td>2016.0</td>\n",
       "      <td>16+</td>\n",
       "      <td>8.8</td>\n",
       "      <td>93%</td>\n",
       "      <td>1</td>\n",
       "      <td>0</td>\n",
       "      <td>0</td>\n",
       "      <td>0</td>\n",
       "      <td>1.0</td>\n",
       "    </tr>\n",
       "    <tr>\n",
       "      <th>2</th>\n",
       "      <td>Money Heist</td>\n",
       "      <td>2017.0</td>\n",
       "      <td>18+</td>\n",
       "      <td>8.4</td>\n",
       "      <td>91%</td>\n",
       "      <td>1</td>\n",
       "      <td>0</td>\n",
       "      <td>0</td>\n",
       "      <td>0</td>\n",
       "      <td>1.0</td>\n",
       "    </tr>\n",
       "    <tr>\n",
       "      <th>3</th>\n",
       "      <td>Sherlock</td>\n",
       "      <td>2010.0</td>\n",
       "      <td>16+</td>\n",
       "      <td>9.1</td>\n",
       "      <td>78%</td>\n",
       "      <td>1</td>\n",
       "      <td>0</td>\n",
       "      <td>0</td>\n",
       "      <td>0</td>\n",
       "      <td>1.0</td>\n",
       "    </tr>\n",
       "    <tr>\n",
       "      <th>4</th>\n",
       "      <td>Better Call Saul</td>\n",
       "      <td>2015.0</td>\n",
       "      <td>18+</td>\n",
       "      <td>8.7</td>\n",
       "      <td>97%</td>\n",
       "      <td>1</td>\n",
       "      <td>0</td>\n",
       "      <td>0</td>\n",
       "      <td>0</td>\n",
       "      <td>1.0</td>\n",
       "    </tr>\n",
       "  </tbody>\n",
       "</table>\n",
       "</div>"
      ],
      "text/plain": [
       "              Title    Year  Age  IMDb Rotten Tomatoes  Netflix  Hulu  \\\n",
       "0      Breaking Bad  2008.0  18+   9.5             96%        1     0   \n",
       "1   Stranger Things  2016.0  16+   8.8             93%        1     0   \n",
       "2       Money Heist  2017.0  18+   8.4             91%        1     0   \n",
       "3          Sherlock  2010.0  16+   9.1             78%        1     0   \n",
       "4  Better Call Saul  2015.0  18+   8.7             97%        1     0   \n",
       "\n",
       "   Prime Video  Disney+  type  \n",
       "0            0        0   1.0  \n",
       "1            0        0   1.0  \n",
       "2            0        0   1.0  \n",
       "3            0        0   1.0  \n",
       "4            0        0   1.0  "
      ]
     },
     "execution_count": 78,
     "metadata": {},
     "output_type": "execute_result"
    }
   ],
   "source": [
    "shows_data = pd.read_csv(\"Data/netflix_shows.csv\", encoding = 'cp1252')\n",
    "shows_data.head()"
   ]
  },
  {
   "cell_type": "code",
   "execution_count": 21,
   "id": "c131656f-cba7-46ee-9edd-8a4cbf503f15",
   "metadata": {},
   "outputs": [],
   "source": [
    "shows_data.columns = shows_data.columns.str.replace(\" \",\"_\") "
   ]
  },
  {
   "cell_type": "code",
   "execution_count": 22,
   "id": "f4aa69a3-9d91-4351-8adc-7839c29c2ead",
   "metadata": {},
   "outputs": [
    {
     "data": {
      "text/html": [
       "<div>\n",
       "<style scoped>\n",
       "    .dataframe tbody tr th:only-of-type {\n",
       "        vertical-align: middle;\n",
       "    }\n",
       "\n",
       "    .dataframe tbody tr th {\n",
       "        vertical-align: top;\n",
       "    }\n",
       "\n",
       "    .dataframe thead th {\n",
       "        text-align: right;\n",
       "    }\n",
       "</style>\n",
       "<table border=\"1\" class=\"dataframe\">\n",
       "  <thead>\n",
       "    <tr style=\"text-align: right;\">\n",
       "      <th></th>\n",
       "      <th>Title</th>\n",
       "      <th>Year</th>\n",
       "      <th>Age</th>\n",
       "      <th>IMDb</th>\n",
       "      <th>Rotten_Tomatoes</th>\n",
       "      <th>Netflix</th>\n",
       "      <th>Hulu</th>\n",
       "      <th>Prime_Video</th>\n",
       "      <th>Disney+</th>\n",
       "      <th>type</th>\n",
       "    </tr>\n",
       "  </thead>\n",
       "  <tbody>\n",
       "    <tr>\n",
       "      <th>4000</th>\n",
       "      <td>Le Mans: Racing is Everything</td>\n",
       "      <td>2017</td>\n",
       "      <td>7+</td>\n",
       "      <td>7.4</td>\n",
       "      <td>NaN</td>\n",
       "      <td>0</td>\n",
       "      <td>0</td>\n",
       "      <td>1</td>\n",
       "      <td>0</td>\n",
       "      <td>1.0</td>\n",
       "    </tr>\n",
       "    <tr>\n",
       "      <th>1575</th>\n",
       "      <td>Back Street Girls: Goku Dolls</td>\n",
       "      <td>2018</td>\n",
       "      <td>NaN</td>\n",
       "      <td>6.6</td>\n",
       "      <td>NaN</td>\n",
       "      <td>1</td>\n",
       "      <td>0</td>\n",
       "      <td>0</td>\n",
       "      <td>0</td>\n",
       "      <td>1.0</td>\n",
       "    </tr>\n",
       "  </tbody>\n",
       "</table>\n",
       "</div>"
      ],
      "text/plain": [
       "                              Title  Year  Age  IMDb Rotten_Tomatoes  Netflix  \\\n",
       "4000  Le Mans: Racing is Everything  2017   7+   7.4             NaN        0   \n",
       "1575  Back Street Girls: Goku Dolls  2018  NaN   6.6             NaN        1   \n",
       "\n",
       "      Hulu  Prime_Video  Disney+  type  \n",
       "4000     0            1        0   1.0  \n",
       "1575     0            0        0   1.0  "
      ]
     },
     "execution_count": 22,
     "metadata": {},
     "output_type": "execute_result"
    }
   ],
   "source": [
    "shows_data.sample(2)"
   ]
  },
  {
   "cell_type": "markdown",
   "id": "afea41fa-bd9b-48e4-baee-d5b7fc9a1fba",
   "metadata": {},
   "source": [
    "## Statistical Analysis"
   ]
  },
  {
   "cell_type": "markdown",
   "id": "3cf4d6ac-3a10-4c94-a6e8-f3b28ae6a734",
   "metadata": {},
   "source": [
    "### 1. Is there a significant difference in IMDb ratings between shows available on Netflix, Hulu, Prime Video, and Disney+?"
   ]
  },
  {
   "cell_type": "code",
   "execution_count": 16,
   "id": "0f95c43a-3da1-4e83-bb24-3d03ce37296c",
   "metadata": {},
   "outputs": [
    {
     "data": {
      "text/plain": [
       "0    3680\n",
       "1    1931\n",
       "Name: Netflix, dtype: int64"
      ]
     },
     "execution_count": 16,
     "metadata": {},
     "output_type": "execute_result"
    }
   ],
   "source": [
    "shows_data.Netflix.value_counts()"
   ]
  },
  {
   "cell_type": "code",
   "execution_count": 17,
   "id": "a79230ca-0842-4ea7-9ca5-cde095f3d320",
   "metadata": {},
   "outputs": [
    {
     "data": {
      "text/plain": [
       "0    3856\n",
       "1    1755\n",
       "Name: Hulu, dtype: int64"
      ]
     },
     "execution_count": 17,
     "metadata": {},
     "output_type": "execute_result"
    }
   ],
   "source": [
    "shows_data.Hulu.value_counts()"
   ]
  },
  {
   "cell_type": "code",
   "execution_count": 23,
   "id": "fff7e5f7-1b6e-4b2c-bd8f-44fcd22b8fd7",
   "metadata": {},
   "outputs": [
    {
     "data": {
      "text/plain": [
       "0    3469\n",
       "1    2142\n",
       "Name: Prime_Video, dtype: int64"
      ]
     },
     "execution_count": 23,
     "metadata": {},
     "output_type": "execute_result"
    }
   ],
   "source": [
    "shows_data['Prime_Video'].value_counts()"
   ]
  },
  {
   "cell_type": "code",
   "execution_count": 25,
   "id": "71366e3c-78a2-48f0-b9b3-a5b401da2f70",
   "metadata": {},
   "outputs": [
    {
     "data": {
      "text/plain": [
       "0    5427\n",
       "1     184\n",
       "Name: Disney+, dtype: int64"
      ]
     },
     "execution_count": 25,
     "metadata": {},
     "output_type": "execute_result"
    }
   ],
   "source": [
    "shows_data['Disney+'].value_counts()"
   ]
  },
  {
   "cell_type": "raw",
   "id": "bac2ccbd-7d26-45c3-8469-bf2d5f8fcb08",
   "metadata": {},
   "source": [
    "NULL Hypothesis(H0) means there is no significance difference in the mean of IMDB ratings among the streaming platforms, and \n",
    "ALTERNATIVE Hypothesis(HA) means there is significance difference."
   ]
  },
  {
   "cell_type": "raw",
   "id": "3f09b99a-a757-4d39-8156-ab3f5b07f892",
   "metadata": {},
   "source": [
    "Null hypothesis (H0): The mean IMDb ratings are equal among shows available on Netflix, Hulu, Prime Video, and Disney+.\n",
    "\n",
    "Alternative hypothesis (HA): The mean IMDb ratings are not equal among shows available on Netflix, Hulu, Prime Video, and Disney+."
   ]
  },
  {
   "cell_type": "code",
   "execution_count": 65,
   "id": "7c61eb1a-9f1b-4ef3-b81a-920c7febf1d5",
   "metadata": {},
   "outputs": [],
   "source": [
    "## assume significance level = 0.05\n",
    "\n",
    "alpha = 0.05\n",
    "\n",
    "## extract the data, make sure no null value is selected and sampling it for better random results\n",
    "\n",
    "netflix = shows_data[shows_data.Netflix == 1]['IMDb'].dropna()\n",
    "hulu = shows_data[shows_data.Hulu == 1]['IMDb'].dropna()\n",
    "prime_video = shows_data[shows_data.Prime_Video == 1]['IMDb'].dropna()\n",
    "disney = shows_data[shows_data['Disney+'] == 1]['IMDb'].dropna()"
   ]
  },
  {
   "cell_type": "code",
   "execution_count": 132,
   "id": "76953601-8b52-4f27-8ce1-968ef05d93ba",
   "metadata": {},
   "outputs": [
    {
     "name": "stdout",
     "output_type": "stream",
     "text": [
      "P-value for the ANOVA test is 0.0014769661774716425 and F-Statistics value is 5.154318030100773\n",
      "As P-value,0.0014769661774716425 is smaller than significance level, 0.05, so we will be Rejecting NULL Hypothesis conclude that there is a significant difference in IMDb ratings among the streaming platforms.\n"
     ]
    }
   ],
   "source": [
    "## applying anova test\n",
    "\n",
    "f_statistics, p_value = stats.f_oneway(netflix, hulu, prime_video, disney)\n",
    "\n",
    "## results\n",
    "\n",
    "print(f\"P-value for the ANOVA test is {p_value} and F-Statistics value is {f_statistics}\")\n",
    "\n",
    "\n",
    "## conclusion\n",
    "if p_value > alpha:\n",
    "    print(f\"As P-value, {p_value} is greater than significance level, {alpha}, so we fail in Rejecting NULL Hypothesis, conclude that there is no significant difference.\")\n",
    "else:\n",
    "    print(f\"As P-value,{p_value} is smaller than significance level, {alpha}, so we will be Rejecting NULL Hypothesis conclude that there is a significant difference in IMDb ratings among the streaming platforms.\")\n"
   ]
  },
  {
   "cell_type": "raw",
   "id": "a477578e-b530-4042-8c9e-7344c739ecff",
   "metadata": {},
   "source": [
    "If the p-value is less than alpha, we reject the null hypothesis and conclude that there is a significant difference in IMDb ratings among the streaming platforms. \n",
    "Otherwise, if the p-value is greater than or equal to alpha, we fail to reject the null hypothesis and conclude that there is no significant difference."
   ]
  },
  {
   "cell_type": "code",
   "execution_count": 67,
   "id": "7d68f6d1-1ed1-4bb9-9a89-7af3ee2b14ea",
   "metadata": {},
   "outputs": [
    {
     "data": {
      "text/plain": [
       "(7.165524861878453, 7.061015831134565, 7.179326186830016, 6.923668639053254)"
      ]
     },
     "execution_count": 67,
     "metadata": {},
     "output_type": "execute_result"
    }
   ],
   "source": [
    "## manually\n",
    "\n",
    "netflix.mean(), hulu.mean(), prime_video.mean(), disney.mean()"
   ]
  },
  {
   "cell_type": "markdown",
   "id": "d874d232-dd07-46ff-a128-64f026a72252",
   "metadata": {},
   "source": [
    "### 2. Does the age rating (e.g., 16+, 18+) of TV shows have an impact on their IMDb ratings?\n"
   ]
  },
  {
   "cell_type": "raw",
   "id": "7bee4790-6d65-476d-b843-f1910039c3f6",
   "metadata": {},
   "source": [
    "NULL Hypothesis : There is no impact of age_rating of TV shows in IMDb ratings.\n",
    "Alternative Hypothesis : There is an impact of age_rating of TV shows in IMDb ratings."
   ]
  },
  {
   "cell_type": "code",
   "execution_count": 79,
   "id": "1a626843-e268-4725-b3a0-eeccd9efd591",
   "metadata": {},
   "outputs": [
    {
     "data": {
      "text/plain": [
       "Index(['Title', 'Year', 'Age', 'IMDb', 'Rotten Tomatoes', 'Netflix', 'Hulu',\n",
       "       'Prime Video', 'Disney+', 'type'],\n",
       "      dtype='object')"
      ]
     },
     "execution_count": 79,
     "metadata": {},
     "output_type": "execute_result"
    }
   ],
   "source": [
    "shows_data.columns"
   ]
  },
  {
   "cell_type": "code",
   "execution_count": 80,
   "id": "bffa99a3-8d50-4c3d-9a2c-d97de7d54865",
   "metadata": {},
   "outputs": [
    {
     "data": {
      "text/plain": [
       "16+    1018\n",
       "7+      848\n",
       "18+     750\n",
       "all     545\n",
       "13+       4\n",
       "Name: Age, dtype: int64"
      ]
     },
     "execution_count": 80,
     "metadata": {},
     "output_type": "execute_result"
    }
   ],
   "source": [
    "shows_data.Age.value_counts()"
   ]
  },
  {
   "cell_type": "code",
   "execution_count": 83,
   "id": "fc931f4b-978a-497e-b04f-5f190e43f12e",
   "metadata": {},
   "outputs": [],
   "source": [
    "# shows_data.query(\"Age == ['3.1', '7.2', '7.8']\")  #data cleaning"
   ]
  },
  {
   "cell_type": "code",
   "execution_count": 123,
   "id": "d1cafa0c-e7b2-4ac7-94d0-8aee34339aa8",
   "metadata": {},
   "outputs": [],
   "source": [
    "## filtering population and taking only 50% of population\n",
    "\n",
    "age_7 = shows_data[shows_data['Age'] == '7+']['IMDb'].dropna()\n",
    "age_13 = shows_data[shows_data['Age'] == '13+']['IMDb'].dropna()\n",
    "age_16 = shows_data[shows_data['Age'] == '16+']['IMDb'].dropna()\n",
    "age_18 = shows_data[shows_data['Age'] == '18+']['IMDb'].dropna()\n",
    "age_all = shows_data[shows_data['Age'] == 'all']['IMDb'].dropna()"
   ]
  },
  {
   "cell_type": "code",
   "execution_count": 124,
   "id": "3044ccfa-53a8-4bd7-ab70-7cd4f6dabfe4",
   "metadata": {},
   "outputs": [
    {
     "data": {
      "text/plain": [
       "((838,), (4,), (1013,), (749,), (532,))"
      ]
     },
     "execution_count": 124,
     "metadata": {},
     "output_type": "execute_result"
    }
   ],
   "source": [
    "age_7.shape, age_13.shape, age_16.shape, age_18.shape, age_all.shape"
   ]
  },
  {
   "cell_type": "code",
   "execution_count": 125,
   "id": "f165ae3d-c036-49d1-a0a5-97323442e2bf",
   "metadata": {},
   "outputs": [
    {
     "data": {
      "text/plain": [
       "(7.062171837708831,\n",
       " 6.0,\n",
       " 7.2755182625863775,\n",
       " 7.398130841121495,\n",
       " 6.874624060150376)"
      ]
     },
     "execution_count": 125,
     "metadata": {},
     "output_type": "execute_result"
    }
   ],
   "source": [
    "age_7.mean(), age_13.mean(), age_16.mean(), age_18.mean(), age_all.mean()"
   ]
  },
  {
   "cell_type": "code",
   "execution_count": 126,
   "id": "b52db10d-1828-49c0-a334-88ed178fbe2b",
   "metadata": {},
   "outputs": [
    {
     "data": {
      "text/plain": [
       "1116    6.6\n",
       "1123    6.4\n",
       "1514    5.7\n",
       "4024    5.3\n",
       "Name: IMDb, dtype: float64"
      ]
     },
     "execution_count": 126,
     "metadata": {},
     "output_type": "execute_result"
    }
   ],
   "source": [
    "age_13"
   ]
  },
  {
   "cell_type": "code",
   "execution_count": 127,
   "id": "c2d0a81c-ebb0-4211-943f-723e53c2eefc",
   "metadata": {},
   "outputs": [],
   "source": [
    "datapoints = [age_7, age_13, age_16, age_18, age_all]"
   ]
  },
  {
   "cell_type": "code",
   "execution_count": 128,
   "id": "f058b336-b291-4e3e-97b0-d34f8fd53bb7",
   "metadata": {},
   "outputs": [],
   "source": [
    "## plotting distplot to visulaize the dats\n",
    "\n",
    "def displot_func(data):\n",
    "    plt.figure(figsize = (8,5))\n",
    "    sns.displot(data)\n",
    "    plt.axvline(x = data.mean(), color = 'red', linestyle = 'dotted', linewidth = 2)\n",
    "    # plt.title(\"Distplot of the\", data)\n",
    "    plt.show()"
   ]
  },
  {
   "cell_type": "raw",
   "id": "0ec36326-1b1a-402a-9199-8e49bfe6bb41",
   "metadata": {},
   "source": [
    "for example in datapoints:\n",
    "    displot_func(data = example)"
   ]
  },
  {
   "cell_type": "raw",
   "id": "c653e570-d20c-45a6-ae22-4dc054a93d1e",
   "metadata": {},
   "source": [
    "Excluding age_13, dataset due to less sample avaliable."
   ]
  },
  {
   "cell_type": "markdown",
   "id": "e48a239c-40b6-4728-b043-c4f07ef098b1",
   "metadata": {},
   "source": [
    "**we choose a t-test when comparing the means of two groups, while ANOVA is used when comparing the means of more than two groups.**"
   ]
  },
  {
   "cell_type": "code",
   "execution_count": 135,
   "id": "ef5d0e95-e767-4d86-855a-ca569df75ca9",
   "metadata": {},
   "outputs": [
    {
     "name": "stdout",
     "output_type": "stream",
     "text": [
      "The p-value for the test is 4.056435723903755e-19 and f_statistics value is 30.00355682223527\n",
      "\n",
      "Conclusion : \n",
      "\n",
      "We REJECT the NULL Hypothesis and conclude that there is a signifance effects of age ratings on IMDb ratings\n"
     ]
    }
   ],
   "source": [
    "## using ANOVA test due to different categorical values in a column\n",
    "\n",
    "## using 50% samples from each category\n",
    "\n",
    "## significance level = 0.50\n",
    "alpha = 0.50\n",
    "\n",
    "f_statistics, p_value = stats.f_oneway(age_7, age_16, age_18, age_all)\n",
    "\n",
    "print(f\"The p-value for the test is {p_value} and f_statistics value is {f_statistics}\")\n",
    "\n",
    "print(\"\\nConclusion : \\n\")\n",
    "\n",
    "if p_value > alpha:\n",
    "    print(f\"P-value for the following test is {p_value} and that's greater than significance value, so we cannot REJECT the NULL Hypothesis, means there is no age effects in IMDb ratings\")\n",
    "else:\n",
    "    print(\"We REJECT the NULL Hypothesis and conclude that there is a signifance effects of age ratings on IMDb ratings\")"
   ]
  },
  {
   "cell_type": "raw",
   "id": "a637da59-f76e-462b-affa-f7ff18b90f3c",
   "metadata": {},
   "source": []
  },
  {
   "cell_type": "markdown",
   "id": "e35fee8a-f1f5-49fc-be51-c9cb808c10a0",
   "metadata": {},
   "source": [
    "### 3. Are there significant differences in IMDb ratings among TV shows in different categories (e.g., Films, Series)?\n"
   ]
  },
  {
   "cell_type": "code",
   "execution_count": 136,
   "id": "0d24e05c-b592-4750-9adc-a2ea252504eb",
   "metadata": {},
   "outputs": [
    {
     "data": {
      "text/plain": [
       "Index(['Title', 'Year', 'Age', 'IMDb', 'Rotten Tomatoes', 'Netflix', 'Hulu',\n",
       "       'Prime Video', 'Disney+', 'type'],\n",
       "      dtype='object')"
      ]
     },
     "execution_count": 136,
     "metadata": {},
     "output_type": "execute_result"
    }
   ],
   "source": [
    "shows_data.columns"
   ]
  },
  {
   "cell_type": "code",
   "execution_count": 138,
   "id": "b73e6f95-a380-49db-a09a-d0a16755ab1f",
   "metadata": {},
   "outputs": [
    {
     "data": {
      "text/plain": [
       "1.0    5610\n",
       "Name: type, dtype: int64"
      ]
     },
     "execution_count": 138,
     "metadata": {},
     "output_type": "execute_result"
    }
   ],
   "source": [
    "shows_data.type.value_counts()"
   ]
  },
  {
   "cell_type": "code",
   "execution_count": 139,
   "id": "393f1575-b4de-410a-b5f2-edb78ac11f94",
   "metadata": {},
   "outputs": [
    {
     "data": {
      "text/plain": [
       "Films (English)        10\n",
       "Films (Non-English)    10\n",
       "TV (English)           10\n",
       "TV (Non-English)       10\n",
       "Name: category, dtype: int64"
      ]
     },
     "execution_count": 139,
     "metadata": {},
     "output_type": "execute_result"
    }
   ],
   "source": [
    "popular_data.category.value_counts()"
   ]
  },
  {
   "cell_type": "code",
   "execution_count": 142,
   "id": "4dbf1809-2a38-47a6-bdf4-ac99cc09f0ea",
   "metadata": {},
   "outputs": [
    {
     "data": {
      "text/plain": [
       "Films    82190\n",
       "TV       82190\n",
       "Name: category, dtype: int64"
      ]
     },
     "execution_count": 142,
     "metadata": {},
     "output_type": "execute_result"
    }
   ],
   "source": [
    "countries_data.category.value_counts()"
   ]
  },
  {
   "cell_type": "code",
   "execution_count": 143,
   "id": "1e6b4f28-c318-446f-861f-e44d2b0494cf",
   "metadata": {},
   "outputs": [
    {
     "data": {
      "text/plain": [
       "(5611, 10)"
      ]
     },
     "execution_count": 143,
     "metadata": {},
     "output_type": "execute_result"
    }
   ],
   "source": [
    "shows_data.shape"
   ]
  },
  {
   "cell_type": "code",
   "execution_count": 149,
   "id": "646d5f26-542e-47d2-b86e-a7a327251f4a",
   "metadata": {},
   "outputs": [
    {
     "data": {
      "text/plain": [
       "(Index(['week', 'category', 'weekly_rank', 'show_title', 'season_title',\n",
       "        'weekly_hours_viewed', 'cumulative_weeks_in_top_10'],\n",
       "       dtype='object'),\n",
       " (3520, 7))"
      ]
     },
     "execution_count": 149,
     "metadata": {},
     "output_type": "execute_result"
    }
   ],
   "source": [
    "global_data.columns, global_data.shape"
   ]
  },
  {
   "cell_type": "code",
   "execution_count": 148,
   "id": "fe5b5247-40c6-4ab7-900d-2d9791705262",
   "metadata": {},
   "outputs": [
    {
     "data": {
      "text/plain": [
       "Films (English)        880\n",
       "Films (Non-English)    880\n",
       "TV (English)           880\n",
       "TV (Non-English)       880\n",
       "Name: category, dtype: int64"
      ]
     },
     "execution_count": 148,
     "metadata": {},
     "output_type": "execute_result"
    }
   ],
   "source": [
    "global_data.category.value_counts()"
   ]
  },
  {
   "cell_type": "markdown",
   "id": "e5155cc4-1f7a-462b-bbaa-4416989fbf8f",
   "metadata": {},
   "source": [
    "#### Merging `Global Data` with 'Shows Data` on title column and it's an inner join"
   ]
  },
  {
   "cell_type": "code",
   "execution_count": 226,
   "id": "e2d79499-44fa-4611-9764-bc2873f88a66",
   "metadata": {},
   "outputs": [],
   "source": [
    "glob_show_data = pd.merge(global_data, shows_data, left_on = 'show_title' , right_on = 'Title', how = 'inner')"
   ]
  },
  {
   "cell_type": "code",
   "execution_count": 217,
   "id": "fa6cd131-5cef-43c0-b163-bd51ab4a7b08",
   "metadata": {},
   "outputs": [
    {
     "data": {
      "text/plain": [
       "97"
      ]
     },
     "execution_count": 217,
     "metadata": {},
     "output_type": "execute_result"
    }
   ],
   "source": [
    "glob_show_data.Title.nunique()"
   ]
  },
  {
   "cell_type": "code",
   "execution_count": 218,
   "id": "516803c7-a0e8-480f-85f4-9bfaceeaf27e",
   "metadata": {},
   "outputs": [
    {
     "data": {
      "text/plain": [
       "(588, 17)"
      ]
     },
     "execution_count": 218,
     "metadata": {},
     "output_type": "execute_result"
    }
   ],
   "source": [
    "glob_show_data.shape"
   ]
  },
  {
   "cell_type": "code",
   "execution_count": 219,
   "id": "fad429cb-b4d0-4009-9961-9ac8f11d65c0",
   "metadata": {},
   "outputs": [
    {
     "data": {
      "text/html": [
       "<div>\n",
       "<style scoped>\n",
       "    .dataframe tbody tr th:only-of-type {\n",
       "        vertical-align: middle;\n",
       "    }\n",
       "\n",
       "    .dataframe tbody tr th {\n",
       "        vertical-align: top;\n",
       "    }\n",
       "\n",
       "    .dataframe thead th {\n",
       "        text-align: right;\n",
       "    }\n",
       "</style>\n",
       "<table border=\"1\" class=\"dataframe\">\n",
       "  <thead>\n",
       "    <tr style=\"text-align: right;\">\n",
       "      <th></th>\n",
       "      <th>week</th>\n",
       "      <th>category</th>\n",
       "      <th>weekly_rank</th>\n",
       "      <th>show_title</th>\n",
       "      <th>season_title</th>\n",
       "      <th>weekly_hours_viewed</th>\n",
       "      <th>cumulative_weeks_in_top_10</th>\n",
       "      <th>Title</th>\n",
       "      <th>Year</th>\n",
       "      <th>Age</th>\n",
       "      <th>IMDb</th>\n",
       "      <th>Rotten Tomatoes</th>\n",
       "      <th>Netflix</th>\n",
       "      <th>Hulu</th>\n",
       "      <th>Prime Video</th>\n",
       "      <th>Disney+</th>\n",
       "      <th>type</th>\n",
       "    </tr>\n",
       "  </thead>\n",
       "  <tbody>\n",
       "    <tr>\n",
       "      <th>0</th>\n",
       "      <td>2023-03-05</td>\n",
       "      <td>TV (English)</td>\n",
       "      <td>1</td>\n",
       "      <td>Outer Banks</td>\n",
       "      <td>Outer Banks: Season 3</td>\n",
       "      <td>99000000</td>\n",
       "      <td>2</td>\n",
       "      <td>Outer Banks</td>\n",
       "      <td>2020.0</td>\n",
       "      <td>18+</td>\n",
       "      <td>7.6</td>\n",
       "      <td>72%</td>\n",
       "      <td>1</td>\n",
       "      <td>0</td>\n",
       "      <td>0</td>\n",
       "      <td>0</td>\n",
       "      <td>1.0</td>\n",
       "    </tr>\n",
       "    <tr>\n",
       "      <th>1</th>\n",
       "      <td>2023-03-05</td>\n",
       "      <td>TV (English)</td>\n",
       "      <td>4</td>\n",
       "      <td>Outer Banks</td>\n",
       "      <td>Outer Banks: Season 1</td>\n",
       "      <td>34050000</td>\n",
       "      <td>7</td>\n",
       "      <td>Outer Banks</td>\n",
       "      <td>2020.0</td>\n",
       "      <td>18+</td>\n",
       "      <td>7.6</td>\n",
       "      <td>72%</td>\n",
       "      <td>1</td>\n",
       "      <td>0</td>\n",
       "      <td>0</td>\n",
       "      <td>0</td>\n",
       "      <td>1.0</td>\n",
       "    </tr>\n",
       "    <tr>\n",
       "      <th>2</th>\n",
       "      <td>2023-03-05</td>\n",
       "      <td>TV (English)</td>\n",
       "      <td>6</td>\n",
       "      <td>Outer Banks</td>\n",
       "      <td>Outer Banks: Season 2</td>\n",
       "      <td>27750000</td>\n",
       "      <td>8</td>\n",
       "      <td>Outer Banks</td>\n",
       "      <td>2020.0</td>\n",
       "      <td>18+</td>\n",
       "      <td>7.6</td>\n",
       "      <td>72%</td>\n",
       "      <td>1</td>\n",
       "      <td>0</td>\n",
       "      <td>0</td>\n",
       "      <td>0</td>\n",
       "      <td>1.0</td>\n",
       "    </tr>\n",
       "    <tr>\n",
       "      <th>3</th>\n",
       "      <td>2023-02-26</td>\n",
       "      <td>TV (English)</td>\n",
       "      <td>1</td>\n",
       "      <td>Outer Banks</td>\n",
       "      <td>Outer Banks: Season 3</td>\n",
       "      <td>154970000</td>\n",
       "      <td>1</td>\n",
       "      <td>Outer Banks</td>\n",
       "      <td>2020.0</td>\n",
       "      <td>18+</td>\n",
       "      <td>7.6</td>\n",
       "      <td>72%</td>\n",
       "      <td>1</td>\n",
       "      <td>0</td>\n",
       "      <td>0</td>\n",
       "      <td>0</td>\n",
       "      <td>1.0</td>\n",
       "    </tr>\n",
       "    <tr>\n",
       "      <th>4</th>\n",
       "      <td>2023-02-26</td>\n",
       "      <td>TV (English)</td>\n",
       "      <td>4</td>\n",
       "      <td>Outer Banks</td>\n",
       "      <td>Outer Banks: Season 1</td>\n",
       "      <td>35100000</td>\n",
       "      <td>6</td>\n",
       "      <td>Outer Banks</td>\n",
       "      <td>2020.0</td>\n",
       "      <td>18+</td>\n",
       "      <td>7.6</td>\n",
       "      <td>72%</td>\n",
       "      <td>1</td>\n",
       "      <td>0</td>\n",
       "      <td>0</td>\n",
       "      <td>0</td>\n",
       "      <td>1.0</td>\n",
       "    </tr>\n",
       "  </tbody>\n",
       "</table>\n",
       "</div>"
      ],
      "text/plain": [
       "         week      category  weekly_rank   show_title           season_title  \\\n",
       "0  2023-03-05  TV (English)            1  Outer Banks  Outer Banks: Season 3   \n",
       "1  2023-03-05  TV (English)            4  Outer Banks  Outer Banks: Season 1   \n",
       "2  2023-03-05  TV (English)            6  Outer Banks  Outer Banks: Season 2   \n",
       "3  2023-02-26  TV (English)            1  Outer Banks  Outer Banks: Season 3   \n",
       "4  2023-02-26  TV (English)            4  Outer Banks  Outer Banks: Season 1   \n",
       "\n",
       "   weekly_hours_viewed  cumulative_weeks_in_top_10        Title    Year  Age  \\\n",
       "0             99000000                           2  Outer Banks  2020.0  18+   \n",
       "1             34050000                           7  Outer Banks  2020.0  18+   \n",
       "2             27750000                           8  Outer Banks  2020.0  18+   \n",
       "3            154970000                           1  Outer Banks  2020.0  18+   \n",
       "4             35100000                           6  Outer Banks  2020.0  18+   \n",
       "\n",
       "   IMDb Rotten Tomatoes  Netflix  Hulu  Prime Video  Disney+  type  \n",
       "0   7.6             72%        1     0            0        0   1.0  \n",
       "1   7.6             72%        1     0            0        0   1.0  \n",
       "2   7.6             72%        1     0            0        0   1.0  \n",
       "3   7.6             72%        1     0            0        0   1.0  \n",
       "4   7.6             72%        1     0            0        0   1.0  "
      ]
     },
     "execution_count": 219,
     "metadata": {},
     "output_type": "execute_result"
    }
   ],
   "source": [
    "glob_show_data.head()"
   ]
  },
  {
   "cell_type": "code",
   "execution_count": 220,
   "id": "53255fe2-f9f9-4287-a496-939ad5496d1e",
   "metadata": {},
   "outputs": [
    {
     "data": {
      "text/plain": [
       "TV (English)           410\n",
       "TV (Non-English)       145\n",
       "Films (English)         26\n",
       "Films (Non-English)      7\n",
       "Name: category, dtype: int64"
      ]
     },
     "execution_count": 220,
     "metadata": {},
     "output_type": "execute_result"
    }
   ],
   "source": [
    "glob_show_data.category.value_counts()"
   ]
  },
  {
   "cell_type": "code",
   "execution_count": 227,
   "id": "2e242425-900d-4818-b62e-3c007c3bf5cc",
   "metadata": {},
   "outputs": [],
   "source": [
    "## filtering data and considering not null values only\n",
    "\n",
    "tv_eng = glob_show_data[glob_show_data.category == 'TV (English)']['IMDb'].dropna()\n",
    "tv_noneng = glob_show_data[glob_show_data.category == 'TV (Non-English)']['IMDb'].dropna()\n",
    "films_eng = glob_show_data[glob_show_data.category == 'Films (English)']['IMDb'].dropna()\n",
    "films_noneng = glob_show_data[glob_show_data.category == 'Films (Non-English)']['IMDb'].dropna()"
   ]
  },
  {
   "cell_type": "raw",
   "id": "334a1f62-a14c-4d4e-b904-a6b83a41e7ed",
   "metadata": {},
   "source": [
    "## Four category under same column, \n",
    "\n",
    "## we can perform two-sample t-test(taking two at a time) or ANOVA test"
   ]
  },
  {
   "cell_type": "code",
   "execution_count": 235,
   "id": "d7020206-2f7b-4ade-84a2-a2f378716f96",
   "metadata": {},
   "outputs": [],
   "source": [
    "## performing t-test\n",
    "\n",
    "t_statistics, p_value = stats.ttest_ind(tv_eng, tv_noneng)"
   ]
  },
  {
   "cell_type": "code",
   "execution_count": 236,
   "id": "883bd242-842d-45c5-8720-860e69bc3e73",
   "metadata": {},
   "outputs": [
    {
     "name": "stdout",
     "output_type": "stream",
     "text": [
      "T-statistics value is 0.4994830838794304 and P-Value is 0.6176377607433152\n"
     ]
    }
   ],
   "source": [
    "## setting significance level = 0.05\n",
    "\n",
    "alpha = 0.05\n",
    "\n",
    "print(f\"T-statistics value is {t_statistics} and P-Value is {p_value}\")"
   ]
  },
  {
   "cell_type": "code",
   "execution_count": 224,
   "id": "90ddfad8-c70b-4a0d-ba23-7884f9958f9d",
   "metadata": {},
   "outputs": [],
   "source": [
    "# tv.mean(), films.mean()"
   ]
  },
  {
   "cell_type": "code",
   "execution_count": 233,
   "id": "bfc5d774-50b4-4811-80d1-74e3f5d961af",
   "metadata": {},
   "outputs": [],
   "source": [
    "## performing ANOVA test\n",
    "\n",
    "f_statistics, p_value_anova = stats.f_oneway(tv_eng, tv_noneng, films_eng, films_noneng)"
   ]
  },
  {
   "cell_type": "code",
   "execution_count": 239,
   "id": "14ee1416-584c-44c9-b379-e0599be6ae8d",
   "metadata": {},
   "outputs": [
    {
     "name": "stdout",
     "output_type": "stream",
     "text": [
      "F-statistics value is 8.888317567654266 and P-Value is 9.121234076879603e-06\n",
      "\n",
      "Conclusion : \n",
      "\n",
      "We will REJECT the NULL Hypothesis, concludes that there is no significance differences on ratings on IMDb in different category\n"
     ]
    }
   ],
   "source": [
    "## setting significance level = 0.05\n",
    "\n",
    "alpha = 0.05\n",
    "\n",
    "print(f\"F-statistics value is {f_statistics} and P-Value is {p_value_anova}\")\n",
    "\n",
    "print(\"\\nConclusion : \\n\")\n",
    "\n",
    "if p_value_anova > alpha:\n",
    "    print(f\"P-Value, {p_value_anova} is greater than alpha, {alpha}, We fail to REJECT the NULL Hypothesis and conclude that there is significant difference in IMDb ratings in different categories\")\n",
    "else:\n",
    "    print(\"We will REJECT the NULL Hypothesis, concludes that there is no significance differences on ratings on IMDb in different category\")"
   ]
  },
  {
   "cell_type": "code",
   "execution_count": null,
   "id": "ebd9a1f9-220b-49e3-a8a4-35191ae3ec91",
   "metadata": {},
   "outputs": [],
   "source": []
  }
 ],
 "metadata": {
  "kernelspec": {
   "display_name": "Python 3 (ipykernel)",
   "language": "python",
   "name": "python3"
  },
  "language_info": {
   "codemirror_mode": {
    "name": "ipython",
    "version": 3
   },
   "file_extension": ".py",
   "mimetype": "text/x-python",
   "name": "python",
   "nbconvert_exporter": "python",
   "pygments_lexer": "ipython3",
   "version": "3.10.9"
  },
  "toc-autonumbering": false,
  "toc-showcode": false
 },
 "nbformat": 4,
 "nbformat_minor": 5
}
